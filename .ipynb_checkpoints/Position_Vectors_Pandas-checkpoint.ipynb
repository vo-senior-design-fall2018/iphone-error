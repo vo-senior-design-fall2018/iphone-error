{
 "cells": [
  {
   "cell_type": "code",
   "execution_count": 6,
   "metadata": {},
   "outputs": [],
   "source": [
    "import json\n",
    "import csv\n",
    "import pandas as pd\n",
    "from math import sqrt\n",
    "import matplotlib.pyplot as plt\n",
    "import os\n",
    "import csv"
   ]
  },
  {
   "cell_type": "code",
   "execution_count": 35,
   "metadata": {},
   "outputs": [],
   "source": [
    "ten_df = pd.read_csv('10ftnew.csv') #loading sample data (small portion of 10ft data)\n",
    "twenty_df = pd.read_csv('20ftnew.csv')\n",
    "thirty_df = pd.read_csv('30ftnew.csv')\n",
    "forty_df = pd.read_csv('40ftnew.csv')\n",
    "fifty_df = pd.read_csv('50ftnew.csv')\n",
    "sixty_df = pd.read_csv('60ftnew.csv')\n",
    "seventy_df = pd.read_csv('70ftnew.csv')\n",
    "eighty_df = pd.read_csv('80ft.csv')\n",
    "ninety_df = pd.read_csv('90ft.csv')\n",
    "hundred_df = pd.read_csv('100ft.csv')\n",
    "# print (list(initial_df))\n",
    "# print (initial_df)\n",
    "\n",
    "# print(thirty_df)"
   ]
  },
  {
   "cell_type": "markdown",
   "metadata": {},
   "source": [
    "## Finding the position vector\n",
    "If P is the point with coordinates (x, y, z) then the length, or magnitude, of the position vector\n",
    "OP is given by the formula: \n",
    "### |OP|= sqrt(x^2 + y^2 + z^2)\n",
    "\n",
    "Source: http://www.mathcentre.ac.uk/resources/uploaded/mc-ty-cartesian1-2009-1.pdf"
   ]
  },
  {
   "cell_type": "code",
   "execution_count": 36,
   "metadata": {},
   "outputs": [
    {
     "ename": "KeyError",
     "evalue": "\"[0 '2018-10-30 16:42:25.5930'] not in index\"",
     "output_type": "error",
     "traceback": [
      "\u001b[0;31m---------------------------------------------------------------------------\u001b[0m",
      "\u001b[0;31mKeyError\u001b[0m                                  Traceback (most recent call last)",
      "\u001b[0;32m/usr/local/lib/python3.7/site-packages/pandas/core/frame.py\u001b[0m in \u001b[0;36m_set_value\u001b[0;34m(self, index, col, value, takeable)\u001b[0m\n\u001b[1;32m   2581\u001b[0m             \u001b[0mengine\u001b[0m \u001b[0;34m=\u001b[0m \u001b[0mself\u001b[0m\u001b[0;34m.\u001b[0m\u001b[0mindex\u001b[0m\u001b[0;34m.\u001b[0m\u001b[0m_engine\u001b[0m\u001b[0;34m\u001b[0m\u001b[0m\n\u001b[0;32m-> 2582\u001b[0;31m             \u001b[0mengine\u001b[0m\u001b[0;34m.\u001b[0m\u001b[0mset_value\u001b[0m\u001b[0;34m(\u001b[0m\u001b[0mseries\u001b[0m\u001b[0;34m.\u001b[0m\u001b[0m_values\u001b[0m\u001b[0;34m,\u001b[0m \u001b[0mindex\u001b[0m\u001b[0;34m,\u001b[0m \u001b[0mvalue\u001b[0m\u001b[0;34m)\u001b[0m\u001b[0;34m\u001b[0m\u001b[0m\n\u001b[0m\u001b[1;32m   2583\u001b[0m             \u001b[0;32mreturn\u001b[0m \u001b[0mself\u001b[0m\u001b[0;34m\u001b[0m\u001b[0m\n",
      "\u001b[0;32mpandas/_libs/index.pyx\u001b[0m in \u001b[0;36mpandas._libs.index.IndexEngine.set_value\u001b[0;34m()\u001b[0m\n",
      "\u001b[0;32mpandas/_libs/index.pyx\u001b[0m in \u001b[0;36mpandas._libs.index.IndexEngine.set_value\u001b[0;34m()\u001b[0m\n",
      "\u001b[0;32mpandas/_libs/index.pyx\u001b[0m in \u001b[0;36mpandas._libs.index.IndexEngine.get_loc\u001b[0;34m()\u001b[0m\n",
      "\u001b[0;32mpandas/_libs/hashtable_class_helper.pxi\u001b[0m in \u001b[0;36mpandas._libs.hashtable.PyObjectHashTable.get_item\u001b[0;34m()\u001b[0m\n",
      "\u001b[0;32mpandas/_libs/hashtable_class_helper.pxi\u001b[0m in \u001b[0;36mpandas._libs.hashtable.PyObjectHashTable.get_item\u001b[0;34m()\u001b[0m\n",
      "\u001b[0;31mKeyError\u001b[0m: (0, '2018-10-30 16:42:25.5930')",
      "\nDuring handling of the above exception, another exception occurred:\n",
      "\u001b[0;31mKeyError\u001b[0m                                  Traceback (most recent call last)",
      "\u001b[0;32m<ipython-input-36-00177eb52b6d>\u001b[0m in \u001b[0;36m<module>\u001b[0;34m()\u001b[0m\n\u001b[1;32m     52\u001b[0m \u001b[0mfinal_eighty_df\u001b[0m \u001b[0;34m=\u001b[0m \u001b[0mpd\u001b[0m\u001b[0;34m.\u001b[0m\u001b[0mDataFrame\u001b[0m\u001b[0;34m(\u001b[0m\u001b[0mcolumns\u001b[0m\u001b[0;34m=\u001b[0m\u001b[0;34m[\u001b[0m\u001b[0;34m'sumGyro'\u001b[0m\u001b[0;34m,\u001b[0m \u001b[0;34m'sumAcc'\u001b[0m\u001b[0;34m,\u001b[0m \u001b[0;34m'sumMag'\u001b[0m\u001b[0;34m]\u001b[0m\u001b[0;34m)\u001b[0m\u001b[0;34m\u001b[0m\u001b[0m\n\u001b[1;32m     53\u001b[0m \u001b[0;32mfor\u001b[0m \u001b[0mindex\u001b[0m\u001b[0;34m,\u001b[0m \u001b[0mrow\u001b[0m \u001b[0;32min\u001b[0m \u001b[0meighty_df\u001b[0m\u001b[0;34m.\u001b[0m\u001b[0miterrows\u001b[0m\u001b[0;34m(\u001b[0m\u001b[0;34m)\u001b[0m\u001b[0;34m:\u001b[0m\u001b[0;34m\u001b[0m\u001b[0m\n\u001b[0;32m---> 54\u001b[0;31m     \u001b[0mfinal_eighty_df\u001b[0m\u001b[0;34m.\u001b[0m\u001b[0mat\u001b[0m\u001b[0;34m[\u001b[0m\u001b[0mindex\u001b[0m\u001b[0;34m,\u001b[0m\u001b[0;34m'sumGyro'\u001b[0m\u001b[0;34m]\u001b[0m \u001b[0;34m=\u001b[0m \u001b[0mpositionVector\u001b[0m\u001b[0;34m(\u001b[0m\u001b[0mrow\u001b[0m\u001b[0;34m[\u001b[0m\u001b[0;34m'GyroX'\u001b[0m\u001b[0;34m]\u001b[0m\u001b[0;34m,\u001b[0m \u001b[0mrow\u001b[0m\u001b[0;34m[\u001b[0m\u001b[0;34m'GyroY'\u001b[0m\u001b[0;34m]\u001b[0m\u001b[0;34m,\u001b[0m \u001b[0mrow\u001b[0m\u001b[0;34m[\u001b[0m\u001b[0;34m'GyroZ'\u001b[0m\u001b[0;34m]\u001b[0m\u001b[0;34m)\u001b[0m \u001b[0;31m#get OP of Gyro\u001b[0m\u001b[0;34m\u001b[0m\u001b[0m\n\u001b[0m\u001b[1;32m     55\u001b[0m     \u001b[0mfinal_eighty_df\u001b[0m\u001b[0;34m.\u001b[0m\u001b[0mat\u001b[0m\u001b[0;34m[\u001b[0m\u001b[0mindex\u001b[0m\u001b[0;34m,\u001b[0m\u001b[0;34m'sumAcc'\u001b[0m\u001b[0;34m]\u001b[0m \u001b[0;34m=\u001b[0m \u001b[0mpositionVector\u001b[0m\u001b[0;34m(\u001b[0m\u001b[0mrow\u001b[0m\u001b[0;34m[\u001b[0m\u001b[0;34m'AccX'\u001b[0m\u001b[0;34m]\u001b[0m\u001b[0;34m,\u001b[0m \u001b[0mrow\u001b[0m\u001b[0;34m[\u001b[0m\u001b[0;34m'AccY'\u001b[0m\u001b[0;34m]\u001b[0m\u001b[0;34m,\u001b[0m \u001b[0mrow\u001b[0m\u001b[0;34m[\u001b[0m\u001b[0;34m'AccZ'\u001b[0m\u001b[0;34m]\u001b[0m\u001b[0;34m)\u001b[0m \u001b[0;31m#get OP of Acc\u001b[0m\u001b[0;34m\u001b[0m\u001b[0m\n\u001b[1;32m     56\u001b[0m     \u001b[0mfinal_eighty_df\u001b[0m\u001b[0;34m.\u001b[0m\u001b[0mat\u001b[0m\u001b[0;34m[\u001b[0m\u001b[0mindex\u001b[0m\u001b[0;34m,\u001b[0m\u001b[0;34m'sumMag'\u001b[0m\u001b[0;34m]\u001b[0m \u001b[0;34m=\u001b[0m \u001b[0mpositionVector\u001b[0m\u001b[0;34m(\u001b[0m\u001b[0mrow\u001b[0m\u001b[0;34m[\u001b[0m\u001b[0;34m'MagX'\u001b[0m\u001b[0;34m]\u001b[0m\u001b[0;34m,\u001b[0m \u001b[0mrow\u001b[0m\u001b[0;34m[\u001b[0m\u001b[0;34m'MagY'\u001b[0m\u001b[0;34m]\u001b[0m\u001b[0;34m,\u001b[0m \u001b[0mrow\u001b[0m\u001b[0;34m[\u001b[0m\u001b[0;34m'MagZ'\u001b[0m\u001b[0;34m]\u001b[0m\u001b[0;34m)\u001b[0m \u001b[0;31m#get OP of Mag\u001b[0m\u001b[0;34m\u001b[0m\u001b[0m\n",
      "\u001b[0;32m/usr/local/lib/python3.7/site-packages/pandas/core/indexing.py\u001b[0m in \u001b[0;36m__setitem__\u001b[0;34m(self, key, value)\u001b[0m\n\u001b[1;32m   2157\u001b[0m         \u001b[0mkey\u001b[0m \u001b[0;34m=\u001b[0m \u001b[0mlist\u001b[0m\u001b[0;34m(\u001b[0m\u001b[0mself\u001b[0m\u001b[0;34m.\u001b[0m\u001b[0m_convert_key\u001b[0m\u001b[0;34m(\u001b[0m\u001b[0mkey\u001b[0m\u001b[0;34m,\u001b[0m \u001b[0mis_setter\u001b[0m\u001b[0;34m=\u001b[0m\u001b[0;32mTrue\u001b[0m\u001b[0;34m)\u001b[0m\u001b[0;34m)\u001b[0m\u001b[0;34m\u001b[0m\u001b[0m\n\u001b[1;32m   2158\u001b[0m         \u001b[0mkey\u001b[0m\u001b[0;34m.\u001b[0m\u001b[0mappend\u001b[0m\u001b[0;34m(\u001b[0m\u001b[0mvalue\u001b[0m\u001b[0;34m)\u001b[0m\u001b[0;34m\u001b[0m\u001b[0m\n\u001b[0;32m-> 2159\u001b[0;31m         \u001b[0mself\u001b[0m\u001b[0;34m.\u001b[0m\u001b[0mobj\u001b[0m\u001b[0;34m.\u001b[0m\u001b[0m_set_value\u001b[0m\u001b[0;34m(\u001b[0m\u001b[0;34m*\u001b[0m\u001b[0mkey\u001b[0m\u001b[0;34m,\u001b[0m \u001b[0mtakeable\u001b[0m\u001b[0;34m=\u001b[0m\u001b[0mself\u001b[0m\u001b[0;34m.\u001b[0m\u001b[0m_takeable\u001b[0m\u001b[0;34m)\u001b[0m\u001b[0;34m\u001b[0m\u001b[0m\n\u001b[0m\u001b[1;32m   2160\u001b[0m \u001b[0;34m\u001b[0m\u001b[0m\n\u001b[1;32m   2161\u001b[0m \u001b[0;34m\u001b[0m\u001b[0m\n",
      "\u001b[0;32m/usr/local/lib/python3.7/site-packages/pandas/core/frame.py\u001b[0m in \u001b[0;36m_set_value\u001b[0;34m(self, index, col, value, takeable)\u001b[0m\n\u001b[1;32m   2585\u001b[0m \u001b[0;34m\u001b[0m\u001b[0m\n\u001b[1;32m   2586\u001b[0m             \u001b[0;31m# set using a non-recursive method & reset the cache\u001b[0m\u001b[0;34m\u001b[0m\u001b[0;34m\u001b[0m\u001b[0m\n\u001b[0;32m-> 2587\u001b[0;31m             \u001b[0mself\u001b[0m\u001b[0;34m.\u001b[0m\u001b[0mloc\u001b[0m\u001b[0;34m[\u001b[0m\u001b[0mindex\u001b[0m\u001b[0;34m,\u001b[0m \u001b[0mcol\u001b[0m\u001b[0;34m]\u001b[0m \u001b[0;34m=\u001b[0m \u001b[0mvalue\u001b[0m\u001b[0;34m\u001b[0m\u001b[0m\n\u001b[0m\u001b[1;32m   2588\u001b[0m             \u001b[0mself\u001b[0m\u001b[0;34m.\u001b[0m\u001b[0m_item_cache\u001b[0m\u001b[0;34m.\u001b[0m\u001b[0mpop\u001b[0m\u001b[0;34m(\u001b[0m\u001b[0mcol\u001b[0m\u001b[0;34m,\u001b[0m \u001b[0;32mNone\u001b[0m\u001b[0;34m)\u001b[0m\u001b[0;34m\u001b[0m\u001b[0m\n\u001b[1;32m   2589\u001b[0m \u001b[0;34m\u001b[0m\u001b[0m\n",
      "\u001b[0;32m/usr/local/lib/python3.7/site-packages/pandas/core/indexing.py\u001b[0m in \u001b[0;36m__setitem__\u001b[0;34m(self, key, value)\u001b[0m\n\u001b[1;32m    186\u001b[0m         \u001b[0;32melse\u001b[0m\u001b[0;34m:\u001b[0m\u001b[0;34m\u001b[0m\u001b[0m\n\u001b[1;32m    187\u001b[0m             \u001b[0mkey\u001b[0m \u001b[0;34m=\u001b[0m \u001b[0mcom\u001b[0m\u001b[0;34m.\u001b[0m\u001b[0m_apply_if_callable\u001b[0m\u001b[0;34m(\u001b[0m\u001b[0mkey\u001b[0m\u001b[0;34m,\u001b[0m \u001b[0mself\u001b[0m\u001b[0;34m.\u001b[0m\u001b[0mobj\u001b[0m\u001b[0;34m)\u001b[0m\u001b[0;34m\u001b[0m\u001b[0m\n\u001b[0;32m--> 188\u001b[0;31m         \u001b[0mindexer\u001b[0m \u001b[0;34m=\u001b[0m \u001b[0mself\u001b[0m\u001b[0;34m.\u001b[0m\u001b[0m_get_setitem_indexer\u001b[0m\u001b[0;34m(\u001b[0m\u001b[0mkey\u001b[0m\u001b[0;34m)\u001b[0m\u001b[0;34m\u001b[0m\u001b[0m\n\u001b[0m\u001b[1;32m    189\u001b[0m         \u001b[0mself\u001b[0m\u001b[0;34m.\u001b[0m\u001b[0m_setitem_with_indexer\u001b[0m\u001b[0;34m(\u001b[0m\u001b[0mindexer\u001b[0m\u001b[0;34m,\u001b[0m \u001b[0mvalue\u001b[0m\u001b[0;34m)\u001b[0m\u001b[0;34m\u001b[0m\u001b[0m\n\u001b[1;32m    190\u001b[0m \u001b[0;34m\u001b[0m\u001b[0m\n",
      "\u001b[0;32m/usr/local/lib/python3.7/site-packages/pandas/core/indexing.py\u001b[0m in \u001b[0;36m_get_setitem_indexer\u001b[0;34m(self, key)\u001b[0m\n\u001b[1;32m    164\u001b[0m         \u001b[0;32mif\u001b[0m \u001b[0misinstance\u001b[0m\u001b[0;34m(\u001b[0m\u001b[0mkey\u001b[0m\u001b[0;34m,\u001b[0m \u001b[0mtuple\u001b[0m\u001b[0;34m)\u001b[0m\u001b[0;34m:\u001b[0m\u001b[0;34m\u001b[0m\u001b[0m\n\u001b[1;32m    165\u001b[0m             \u001b[0;32mtry\u001b[0m\u001b[0;34m:\u001b[0m\u001b[0;34m\u001b[0m\u001b[0m\n\u001b[0;32m--> 166\u001b[0;31m                 \u001b[0;32mreturn\u001b[0m \u001b[0mself\u001b[0m\u001b[0;34m.\u001b[0m\u001b[0m_convert_tuple\u001b[0m\u001b[0;34m(\u001b[0m\u001b[0mkey\u001b[0m\u001b[0;34m,\u001b[0m \u001b[0mis_setter\u001b[0m\u001b[0;34m=\u001b[0m\u001b[0;32mTrue\u001b[0m\u001b[0;34m)\u001b[0m\u001b[0;34m\u001b[0m\u001b[0m\n\u001b[0m\u001b[1;32m    167\u001b[0m             \u001b[0;32mexcept\u001b[0m \u001b[0mIndexingError\u001b[0m\u001b[0;34m:\u001b[0m\u001b[0;34m\u001b[0m\u001b[0m\n\u001b[1;32m    168\u001b[0m                 \u001b[0;32mpass\u001b[0m\u001b[0;34m\u001b[0m\u001b[0m\n",
      "\u001b[0;32m/usr/local/lib/python3.7/site-packages/pandas/core/indexing.py\u001b[0m in \u001b[0;36m_convert_tuple\u001b[0;34m(self, key, is_setter)\u001b[0m\n\u001b[1;32m    245\u001b[0m                 \u001b[0;32mif\u001b[0m \u001b[0mi\u001b[0m \u001b[0;34m>=\u001b[0m \u001b[0mself\u001b[0m\u001b[0;34m.\u001b[0m\u001b[0mobj\u001b[0m\u001b[0;34m.\u001b[0m\u001b[0mndim\u001b[0m\u001b[0;34m:\u001b[0m\u001b[0;34m\u001b[0m\u001b[0m\n\u001b[1;32m    246\u001b[0m                     \u001b[0;32mraise\u001b[0m \u001b[0mIndexingError\u001b[0m\u001b[0;34m(\u001b[0m\u001b[0;34m'Too many indexers'\u001b[0m\u001b[0;34m)\u001b[0m\u001b[0;34m\u001b[0m\u001b[0m\n\u001b[0;32m--> 247\u001b[0;31m                 \u001b[0midx\u001b[0m \u001b[0;34m=\u001b[0m \u001b[0mself\u001b[0m\u001b[0;34m.\u001b[0m\u001b[0m_convert_to_indexer\u001b[0m\u001b[0;34m(\u001b[0m\u001b[0mk\u001b[0m\u001b[0;34m,\u001b[0m \u001b[0maxis\u001b[0m\u001b[0;34m=\u001b[0m\u001b[0mi\u001b[0m\u001b[0;34m,\u001b[0m \u001b[0mis_setter\u001b[0m\u001b[0;34m=\u001b[0m\u001b[0mis_setter\u001b[0m\u001b[0;34m)\u001b[0m\u001b[0;34m\u001b[0m\u001b[0m\n\u001b[0m\u001b[1;32m    248\u001b[0m                 \u001b[0mkeyidx\u001b[0m\u001b[0;34m.\u001b[0m\u001b[0mappend\u001b[0m\u001b[0;34m(\u001b[0m\u001b[0midx\u001b[0m\u001b[0;34m)\u001b[0m\u001b[0;34m\u001b[0m\u001b[0m\n\u001b[1;32m    249\u001b[0m         \u001b[0;32mreturn\u001b[0m \u001b[0mtuple\u001b[0m\u001b[0;34m(\u001b[0m\u001b[0mkeyidx\u001b[0m\u001b[0;34m)\u001b[0m\u001b[0;34m\u001b[0m\u001b[0m\n",
      "\u001b[0;32m/usr/local/lib/python3.7/site-packages/pandas/core/indexing.py\u001b[0m in \u001b[0;36m_convert_to_indexer\u001b[0;34m(self, obj, axis, is_setter)\u001b[0m\n\u001b[1;32m   1325\u001b[0m                 \u001b[0;32mif\u001b[0m \u001b[0mmask\u001b[0m\u001b[0;34m.\u001b[0m\u001b[0many\u001b[0m\u001b[0;34m(\u001b[0m\u001b[0;34m)\u001b[0m\u001b[0;34m:\u001b[0m\u001b[0;34m\u001b[0m\u001b[0m\n\u001b[1;32m   1326\u001b[0m                     raise KeyError('{mask} not in index'\n\u001b[0;32m-> 1327\u001b[0;31m                                    .format(mask=objarr[mask]))\n\u001b[0m\u001b[1;32m   1328\u001b[0m \u001b[0;34m\u001b[0m\u001b[0m\n\u001b[1;32m   1329\u001b[0m                 \u001b[0;32mreturn\u001b[0m \u001b[0mcom\u001b[0m\u001b[0;34m.\u001b[0m\u001b[0m_values_from_object\u001b[0m\u001b[0;34m(\u001b[0m\u001b[0mindexer\u001b[0m\u001b[0;34m)\u001b[0m\u001b[0;34m\u001b[0m\u001b[0m\n",
      "\u001b[0;31mKeyError\u001b[0m: \"[0 '2018-10-30 16:42:25.5930'] not in index\""
     ]
    }
   ],
   "source": [
    "def square(x):\n",
    "    return x**2\n",
    "\n",
    "def positionVector(x, y, z):\n",
    "    x = square(x)\n",
    "    y = square(y)\n",
    "    z = square(z)\n",
    "    return(abs(sqrt(x + y+ z))) \n",
    "\n",
    "final_ten_df = pd.DataFrame(columns=['sumGyro', 'sumAcc', 'sumMag'])\n",
    "for index, row in ten_df.iterrows():\n",
    "    final_ten_df.at[index,'sumGyro'] = positionVector(row['GyroX'], row['GyroY'], row['GyroZ']) #get OP of Gyro\n",
    "    final_ten_df.at[index,'sumAcc'] = positionVector(row['AccX'], row['AccY'], row['AccZ']) #get OP of Acc\n",
    "    final_ten_df.at[index,'sumMag'] = positionVector(row['MagX'], row['MagY'], row['MagZ']) #get OP of Mag\n",
    "    \n",
    "final_twenty_df = pd.DataFrame(columns=['sumGyro', 'sumAcc', 'sumMag'])\n",
    "for index, row in twenty_df.iterrows():\n",
    "    final_twenty_df.at[index,'sumGyro'] = positionVector(row['GyroX'], row['GyroY'], row['GyroZ']) #get OP of Gyro\n",
    "    final_twenty_df.at[index,'sumAcc'] = positionVector(row['AccX'], row['AccY'], row['AccZ']) #get OP of Acc\n",
    "    final_twenty_df.at[index,'sumMag'] = positionVector(row['MagX'], row['MagY'], row['MagZ']) #get OP of Mag\n",
    "    \n",
    "final_thirty_df = pd.DataFrame(columns=['sumGyro', 'sumAcc', 'sumMag'])\n",
    "for index, row in thirty_df.iterrows():\n",
    "    final_thirty_df.at[index,'sumGyro'] = positionVector(row['GyroX'], row['GyroY'], row['GyroZ']) #get OP of Gyro\n",
    "    final_thirty_df.at[index,'sumAcc'] = positionVector(row['AccX'], row['AccY'], row['AccZ']) #get OP of Acc\n",
    "    final_thirty_df.at[index,'sumMag'] = positionVector(row['MagX'], row['MagY'], row['MagZ']) #get OP of Mag\n",
    "\n",
    "final_forty_df = pd.DataFrame(columns=['sumGyro', 'sumAcc', 'sumMag'])\n",
    "for index, row in forty_df.iterrows():\n",
    "    final_forty_df.at[index,'sumGyro'] = positionVector(row['GyroX'], row['GyroY'], row['GyroZ']) #get OP of Gyro\n",
    "    final_forty_df.at[index,'sumAcc'] = positionVector(row['AccX'], row['AccY'], row['AccZ']) #get OP of Acc\n",
    "    final_forty_df.at[index,'sumMag'] = positionVector(row['MagX'], row['MagY'], row['MagZ']) #get OP of Mag\n",
    "    \n",
    "final_fifty_df = pd.DataFrame(columns=['sumGyro', 'sumAcc', 'sumMag'])\n",
    "for index, row in fifty_df.iterrows():\n",
    "    final_fifty_df.at[index,'sumGyro'] = positionVector(row['GyroX'], row['GyroY'], row['GyroZ']) #get OP of Gyro\n",
    "    final_fifty_df.at[index,'sumAcc'] = positionVector(row['AccX'], row['AccY'], row['AccZ']) #get OP of Acc\n",
    "    final_fifty_df.at[index,'sumMag'] = positionVector(row['MagX'], row['MagY'], row['MagZ']) #get OP of Mag\n",
    "    \n",
    "final_sixty_df = pd.DataFrame(columns=['sumGyro', 'sumAcc', 'sumMag'])\n",
    "for index, row in sixty_df.iterrows():\n",
    "    final_sixty_df.at[index,'sumGyro'] = positionVector(row['GyroX'], row['GyroY'], row['GyroZ']) #get OP of Gyro\n",
    "    final_sixty_df.at[index,'sumAcc'] = positionVector(row['AccX'], row['AccY'], row['AccZ']) #get OP of Acc\n",
    "    final_sixty_df.at[index,'sumMag'] = positionVector(row['MagX'], row['MagY'], row['MagZ']) #get OP of Mag\n",
    "\n",
    "final_seventy_df = pd.DataFrame(columns=['sumGyro', 'sumAcc', 'sumMag'])\n",
    "for index, row in seventy_df.iterrows():\n",
    "    final_seventy_df.at[index,'sumGyro'] = positionVector(row['GyroX'], row['GyroY'], row['GyroZ']) #get OP of Gyro\n",
    "    final_seventy_df.at[index,'sumAcc'] = positionVector(row['AccX'], row['AccY'], row['AccZ']) #get OP of Acc\n",
    "    final_seventy_df.at[index,'sumMag'] = positionVector(row['MagX'], row['MagY'], row['MagZ']) #get OP of Mag\n",
    "    \n",
    "final_eighty_df = pd.DataFrame(columns=['sumGyro', 'sumAcc', 'sumMag'])\n",
    "for index, row in eighty_df.iterrows():\n",
    "    final_eighty_df.at[index,'sumGyro'] = positionVector(row['GyroX'], row['GyroY'], row['GyroZ']) #get OP of Gyro\n",
    "    final_eighty_df.at[index,'sumAcc'] = positionVector(row['AccX'], row['AccY'], row['AccZ']) #get OP of Acc\n",
    "    final_eighty_df.at[index,'sumMag'] = positionVector(row['MagX'], row['MagY'], row['MagZ']) #get OP of Mag\n",
    "    \n",
    "final_ninety_df = pd.DataFrame(columns=['sumGyro', 'sumAcc', 'sumMag'])\n",
    "for index, row in ninety_df.iterrows():\n",
    "    final_ninety_df.at[index,'sumGyro'] = positionVector(row['GyroX'], row['GyroY'], row['GyroZ']) #get OP of Gyro\n",
    "    final_ninety_df.at[index,'sumAcc'] = positionVector(row['AccX'], row['AccY'], row['AccZ']) #get OP of Acc\n",
    "    final_ninety_df.at[index,'sumMag'] = positionVector(row['MagX'], row['MagY'], row['MagZ']) #get OP of Mag\n",
    "    \n",
    "final_hundred_df = pd.DataFrame(columns=['sumGyro', 'sumAcc', 'sumMag'])\n",
    "for index, row in hundred_df.iterrows():\n",
    "    final_hundred_df.at[index,'sumGyro'] = positionVector(row['GyroX'], row['GyroY'], row['GyroZ']) #get OP of Gyro\n",
    "    final_hundred_df.at[index,'sumAcc'] = positionVector(row['AccX'], row['AccY'], row['AccZ']) #get OP of Acc\n",
    "    final_hundred_df.at[index,'sumMag'] = positionVector(row['MagX'], row['MagY'], row['MagZ']) #get OP of Mag"
   ]
  },
  {
   "cell_type": "code",
   "execution_count": 9,
   "metadata": {},
   "outputs": [
    {
     "name": "stdout",
     "output_type": "stream",
     "text": [
      "       sumGyro    sumAcc   sumMag\n",
      "0     0.445895   1.07087   85.354\n",
      "1     0.417076    1.0479  85.2641\n",
      "2     0.371987   1.00033  85.0701\n",
      "3     0.343701  0.980807  84.9472\n",
      "4     0.339097  0.963115  84.9472\n",
      "5     0.388344  0.963115  84.8608\n",
      "6     0.377098  0.973397   85.096\n",
      "7     0.274325   1.00842  85.0526\n",
      "8     0.184159   1.00842  85.1921\n",
      "9     0.168525   1.00823  84.7991\n",
      "10    0.186263   1.03993  85.1434\n",
      "11    0.168755   1.03755  85.0222\n",
      "12    0.217078  0.987522  84.9364\n",
      "13    0.258594  0.987522  85.2747\n",
      "14    0.216803   1.03938   85.052\n",
      "15    0.144004   1.04336  85.0008\n",
      "16   0.0396949   1.04336  85.0008\n",
      "17   0.0413028   0.99412  85.2068\n",
      "18   0.0898772  0.977028  84.9668\n",
      "19    0.159625   0.98857  84.9319\n",
      "20    0.193957   1.01887  84.9676\n",
      "21    0.170218   1.03913  84.8811\n",
      "22    0.159784   1.03869  84.8811\n",
      "23    0.167326   1.03777  84.8001\n",
      "24    0.178043    1.0495  84.8538\n",
      "25    0.178043    1.0349  84.8339\n",
      "26    0.220505   1.02769  85.0184\n",
      "27    0.241089   1.04419  84.8719\n",
      "28    0.257218    1.0791  84.9655\n",
      "29    0.306101   1.12795  84.9655\n",
      "..         ...       ...      ...\n",
      "459   0.408869   1.28249  76.6428\n",
      "460   0.493013   1.17483  76.6428\n",
      "461   0.452685   1.03941  76.3167\n",
      "462   0.452685   1.03941  76.3167\n",
      "463   0.232225   1.10262  76.4776\n",
      "464   0.113306   1.10414  75.6934\n",
      "465   0.148592   1.06298  76.1858\n",
      "466   0.281174    0.9821  75.8982\n",
      "467   0.411414   0.91864   75.992\n",
      "468   0.411414   0.87618  75.6218\n",
      "469   0.259336   0.87618  75.6218\n",
      "470   0.224501  0.904726  75.5889\n",
      "471   0.224501  0.941184  75.9134\n",
      "472   0.220945  0.941184  75.9134\n",
      "473   0.195609  0.980578  75.6594\n",
      "474   0.195609  0.980578  75.6594\n",
      "475   0.243957   1.00404  75.6055\n",
      "476   0.261855   1.01645  75.5578\n",
      "477   0.261855   1.03124  75.5578\n",
      "478   0.235544   1.02846  75.7481\n",
      "479   0.244535   1.00858  75.6622\n",
      "480   0.173755  0.980579   75.682\n",
      "481   0.173755  0.958024   75.682\n",
      "482   0.210194  0.951855  75.6177\n",
      "483   0.880425  0.903361  76.1835\n",
      "484   0.880425  0.903361  76.1835\n",
      "485   0.598175  0.997727  76.1683\n",
      "486   0.877052   1.10148  76.2444\n",
      "487   0.651567   1.15067  76.3127\n",
      "488   0.651567   1.15067  76.3127\n",
      "\n",
      "[489 rows x 3 columns]\n"
     ]
    }
   ],
   "source": [
    "print (final_ten_df)\n"
   ]
  },
  {
   "cell_type": "code",
   "execution_count": 10,
   "metadata": {},
   "outputs": [
    {
     "name": "stdout",
     "output_type": "stream",
     "text": [
      "       sumGyro    sumAcc   sumMag\n",
      "0     0.727668   1.05383  88.9395\n",
      "1      0.32408   1.07085  88.9755\n",
      "2     0.504084   1.10323  89.0718\n",
      "3     0.667718    1.1108  89.0718\n",
      "4     0.675383   1.05258  88.9159\n",
      "5     0.477125  0.992429  88.9983\n",
      "6     0.194089  0.980504  89.2368\n",
      "7     0.171188  0.999304  89.0169\n",
      "8     0.412254   1.03696  88.8856\n",
      "9     0.547861   1.04409  88.7838\n",
      "10    0.472963   1.01598  88.7838\n",
      "11     0.30789  0.998031  88.5465\n",
      "12    0.152333  0.980736  88.7289\n",
      "13    0.164292  0.966738  88.7019\n",
      "14    0.164292  0.963966   88.897\n",
      "15    0.156852  0.959095  88.5505\n",
      "16    0.149782  0.988839  88.5505\n",
      "17    0.172997  0.997828  88.4695\n",
      "18    0.289386   1.01268  88.7464\n",
      "19    0.289386   1.01268  88.6207\n",
      "20    0.225314   1.03751  88.6651\n",
      "21     0.23241   1.00693  88.5671\n",
      "22     0.23241   1.00693  88.5671\n",
      "23    0.305734  0.947077  88.3387\n",
      "24    0.262743  0.894007  88.7775\n",
      "25    0.262743  0.894007  88.7544\n",
      "26    0.361645  0.946856  88.6119\n",
      "27    0.378827   0.99223  88.4932\n",
      "28    0.378827   0.99223  88.4945\n",
      "29    0.311285   1.05704  88.4945\n",
      "...        ...       ...      ...\n",
      "1040  0.355854   1.04662  78.2912\n",
      "1041  0.484791   1.01031  78.3617\n",
      "1042  0.565676  0.987445  78.0887\n",
      "1043  0.539958  0.992093  78.0968\n",
      "1044  0.417046  0.968088  78.0968\n",
      "1045  0.464684   0.95367  77.6901\n",
      "1046  0.695192  0.883393  77.8017\n",
      "1047  0.843029  0.833664  77.4613\n",
      "1048  0.863825  0.867347  77.4438\n",
      "1049  0.747749  0.919878  77.3554\n",
      "1050  0.643931  0.958961  77.5586\n",
      "1051  0.697374  0.911732  77.5586\n",
      "1052  0.864074   0.87971  77.3691\n",
      "1053   0.89731  0.942604  77.7957\n",
      "1054  0.864393   1.01011  78.2239\n",
      "1055  0.856063   1.06666  78.3994\n",
      "1056  0.826078   1.10148  78.5014\n",
      "1057  0.787518   1.08178  78.5014\n",
      "1058  0.692696   1.08177  78.3993\n",
      "1059   0.60459   1.09144  78.7548\n",
      "1060  0.672305    1.0265  78.4131\n",
      "1061  0.833723  0.970334  78.6436\n",
      "1062  0.896245  0.938496  78.5835\n",
      "1063  0.736482  0.915006  78.5835\n",
      "1064  0.229587  0.942755  78.6045\n",
      "1065   0.24039  0.968181  78.8345\n",
      "1066  0.440752   0.95493  78.6725\n",
      "1067  0.530413  0.948717  78.6864\n",
      "1068  0.729575   1.17244  79.0238\n",
      "1069  0.729575   1.17244  79.1971\n",
      "\n",
      "[1070 rows x 3 columns]\n"
     ]
    }
   ],
   "source": [
    "print (final_twenty_df)"
   ]
  },
  {
   "cell_type": "code",
   "execution_count": 38,
   "metadata": {},
   "outputs": [
    {
     "name": "stdout",
     "output_type": "stream",
     "text": [
      "       sumGyro    sumAcc   sumMag\n",
      "0     0.727668   1.05383  88.9395\n",
      "1      0.32408   1.07085  88.9755\n",
      "2     0.504084   1.10323  89.0718\n",
      "3     0.667718    1.1108  89.0718\n",
      "4     0.675383   1.05258  88.9159\n",
      "5     0.477125  0.992429  88.9983\n",
      "6     0.194089  0.980504  89.2368\n",
      "7     0.171188  0.999304  89.0169\n",
      "8     0.412254   1.03696  88.8856\n",
      "9     0.547861   1.04409  88.7838\n",
      "10    0.472963   1.01598  88.7838\n",
      "11     0.30789  0.998031  88.5465\n",
      "12    0.152333  0.980736  88.7289\n",
      "13    0.164292  0.966738  88.7019\n",
      "14    0.164292  0.963966   88.897\n",
      "15    0.156852  0.959095  88.5505\n",
      "16    0.149782  0.988839  88.5505\n",
      "17    0.172997  0.997828  88.4695\n",
      "18    0.289386   1.01268  88.7464\n",
      "19    0.289386   1.01268  88.6207\n",
      "20    0.225314   1.03751  88.6651\n",
      "21     0.23241   1.00693  88.5671\n",
      "22     0.23241   1.00693  88.5671\n",
      "23    0.305734  0.947077  88.3387\n",
      "24    0.262743  0.894007  88.7775\n",
      "25    0.262743  0.894007  88.7544\n",
      "26    0.361645  0.946856  88.6119\n",
      "27    0.378827   0.99223  88.4932\n",
      "28    0.378827   0.99223  88.4945\n",
      "29    0.311285   1.05704  88.4945\n",
      "...        ...       ...      ...\n",
      "1040  0.355854   1.04662  78.2912\n",
      "1041  0.484791   1.01031  78.3617\n",
      "1042  0.565676  0.987445  78.0887\n",
      "1043  0.539958  0.992093  78.0968\n",
      "1044  0.417046  0.968088  78.0968\n",
      "1045  0.464684   0.95367  77.6901\n",
      "1046  0.695192  0.883393  77.8017\n",
      "1047  0.843029  0.833664  77.4613\n",
      "1048  0.863825  0.867347  77.4438\n",
      "1049  0.747749  0.919878  77.3554\n",
      "1050  0.643931  0.958961  77.5586\n",
      "1051  0.697374  0.911732  77.5586\n",
      "1052  0.864074   0.87971  77.3691\n",
      "1053   0.89731  0.942604  77.7957\n",
      "1054  0.864393   1.01011  78.2239\n",
      "1055  0.856063   1.06666  78.3994\n",
      "1056  0.826078   1.10148  78.5014\n",
      "1057  0.787518   1.08178  78.5014\n",
      "1058  0.692696   1.08177  78.3993\n",
      "1059   0.60459   1.09144  78.7548\n",
      "1060  0.672305    1.0265  78.4131\n",
      "1061  0.833723  0.970334  78.6436\n",
      "1062  0.896245  0.938496  78.5835\n",
      "1063  0.736482  0.915006  78.5835\n",
      "1064  0.229587  0.942755  78.6045\n",
      "1065   0.24039  0.968181  78.8345\n",
      "1066  0.440752   0.95493  78.6725\n",
      "1067  0.530413  0.948717  78.6864\n",
      "1068  0.729575   1.17244  79.0238\n",
      "1069  0.729575   1.17244  79.1971\n",
      "\n",
      "[1070 rows x 3 columns]\n"
     ]
    }
   ],
   "source": [
    "print(final_thirty_df)"
   ]
  },
  {
   "cell_type": "code",
   "execution_count": null,
   "metadata": {},
   "outputs": [],
   "source": [
    "print (\"10 ft data\")\n",
    "print (\"sum of Gyro: \"+ str(final_ten_df['sumGyro'].sum()))\n",
    "print (\"sum of Acc: \"+ str(final_ten_df['sumAcc'].sum()))\n",
    "print (\"sum of Mag: \"+ str(final_ten_df['sumMag'].sum()))\n",
    "\n",
    "print (\"20 ft data\")\n",
    "print (\"sum of Gyro: \"+ str(final_twenty_df['sumGyro'].sum()))\n",
    "print (\"sum of Acc: \"+ str(final_twenty_df['sumAcc'].sum()))\n",
    "print (\"sum of Mag: \"+ str(final_twenty_df['sumMag'].sum()))\n",
    "\n",
    "print (\"30 ft data\")\n",
    "print (\"sum of Gyro: \"+ str(final_thirty_df['sumGyro'].sum()))\n",
    "print (\"sum of Acc: \"+ str(final_thirty_df['sumAcc'].sum()))\n",
    "print (\"sum of Mag: \"+ str(final_thirty_df['sumMag'].sum()))"
   ]
  },
  {
   "cell_type": "code",
   "execution_count": 12,
   "metadata": {},
   "outputs": [
    {
     "name": "stdout",
     "output_type": "stream",
     "text": [
      "       sumGyro    sumAcc   sumMag\n",
      "0     0.445895   1.07087   85.354\n",
      "1     0.417076    1.0479  85.2641\n",
      "2     0.371987   1.00033  85.0701\n",
      "3     0.343701  0.980807  84.9472\n",
      "4     0.339097  0.963115  84.9472\n",
      "5     0.388344  0.963115  84.8608\n",
      "6     0.377098  0.973397   85.096\n",
      "7     0.274325   1.00842  85.0526\n",
      "8     0.184159   1.00842  85.1921\n",
      "9     0.168525   1.00823  84.7991\n",
      "10    0.186263   1.03993  85.1434\n",
      "11    0.168755   1.03755  85.0222\n",
      "12    0.217078  0.987522  84.9364\n",
      "13    0.258594  0.987522  85.2747\n",
      "14    0.216803   1.03938   85.052\n",
      "15    0.144004   1.04336  85.0008\n",
      "16   0.0396949   1.04336  85.0008\n",
      "17   0.0413028   0.99412  85.2068\n",
      "18   0.0898772  0.977028  84.9668\n",
      "19    0.159625   0.98857  84.9319\n",
      "20    0.193957   1.01887  84.9676\n",
      "21    0.170218   1.03913  84.8811\n",
      "22    0.159784   1.03869  84.8811\n",
      "23    0.167326   1.03777  84.8001\n",
      "24    0.178043    1.0495  84.8538\n",
      "25    0.178043    1.0349  84.8339\n",
      "26    0.220505   1.02769  85.0184\n",
      "27    0.241089   1.04419  84.8719\n",
      "28    0.257218    1.0791  84.9655\n",
      "29    0.306101   1.12795  84.9655\n",
      "..         ...       ...      ...\n",
      "459   0.408869   1.28249  76.6428\n",
      "460   0.493013   1.17483  76.6428\n",
      "461   0.452685   1.03941  76.3167\n",
      "462   0.452685   1.03941  76.3167\n",
      "463   0.232225   1.10262  76.4776\n",
      "464   0.113306   1.10414  75.6934\n",
      "465   0.148592   1.06298  76.1858\n",
      "466   0.281174    0.9821  75.8982\n",
      "467   0.411414   0.91864   75.992\n",
      "468   0.411414   0.87618  75.6218\n",
      "469   0.259336   0.87618  75.6218\n",
      "470   0.224501  0.904726  75.5889\n",
      "471   0.224501  0.941184  75.9134\n",
      "472   0.220945  0.941184  75.9134\n",
      "473   0.195609  0.980578  75.6594\n",
      "474   0.195609  0.980578  75.6594\n",
      "475   0.243957   1.00404  75.6055\n",
      "476   0.261855   1.01645  75.5578\n",
      "477   0.261855   1.03124  75.5578\n",
      "478   0.235544   1.02846  75.7481\n",
      "479   0.244535   1.00858  75.6622\n",
      "480   0.173755  0.980579   75.682\n",
      "481   0.173755  0.958024   75.682\n",
      "482   0.210194  0.951855  75.6177\n",
      "483   0.880425  0.903361  76.1835\n",
      "484   0.880425  0.903361  76.1835\n",
      "485   0.598175  0.997727  76.1683\n",
      "486   0.877052   1.10148  76.2444\n",
      "487   0.651567   1.15067  76.3127\n",
      "488   0.651567   1.15067  76.3127\n",
      "\n",
      "[489 rows x 3 columns]\n",
      "       sumGyro    sumAcc   sumMag\n",
      "0     0.727668   1.05383  88.9395\n",
      "1      0.32408   1.07085  88.9755\n",
      "2     0.504084   1.10323  89.0718\n",
      "3     0.667718    1.1108  89.0718\n",
      "4     0.675383   1.05258  88.9159\n",
      "5     0.477125  0.992429  88.9983\n",
      "6     0.194089  0.980504  89.2368\n",
      "7     0.171188  0.999304  89.0169\n",
      "8     0.412254   1.03696  88.8856\n",
      "9     0.547861   1.04409  88.7838\n",
      "10    0.472963   1.01598  88.7838\n",
      "11     0.30789  0.998031  88.5465\n",
      "12    0.152333  0.980736  88.7289\n",
      "13    0.164292  0.966738  88.7019\n",
      "14    0.164292  0.963966   88.897\n",
      "15    0.156852  0.959095  88.5505\n",
      "16    0.149782  0.988839  88.5505\n",
      "17    0.172997  0.997828  88.4695\n",
      "18    0.289386   1.01268  88.7464\n",
      "19    0.289386   1.01268  88.6207\n",
      "20    0.225314   1.03751  88.6651\n",
      "21     0.23241   1.00693  88.5671\n",
      "22     0.23241   1.00693  88.5671\n",
      "23    0.305734  0.947077  88.3387\n",
      "24    0.262743  0.894007  88.7775\n",
      "25    0.262743  0.894007  88.7544\n",
      "26    0.361645  0.946856  88.6119\n",
      "27    0.378827   0.99223  88.4932\n",
      "28    0.378827   0.99223  88.4945\n",
      "29    0.311285   1.05704  88.4945\n",
      "...        ...       ...      ...\n",
      "1040  0.355854   1.04662  78.2912\n",
      "1041  0.484791   1.01031  78.3617\n",
      "1042  0.565676  0.987445  78.0887\n",
      "1043  0.539958  0.992093  78.0968\n",
      "1044  0.417046  0.968088  78.0968\n",
      "1045  0.464684   0.95367  77.6901\n",
      "1046  0.695192  0.883393  77.8017\n",
      "1047  0.843029  0.833664  77.4613\n",
      "1048  0.863825  0.867347  77.4438\n",
      "1049  0.747749  0.919878  77.3554\n",
      "1050  0.643931  0.958961  77.5586\n",
      "1051  0.697374  0.911732  77.5586\n",
      "1052  0.864074   0.87971  77.3691\n",
      "1053   0.89731  0.942604  77.7957\n",
      "1054  0.864393   1.01011  78.2239\n",
      "1055  0.856063   1.06666  78.3994\n",
      "1056  0.826078   1.10148  78.5014\n",
      "1057  0.787518   1.08178  78.5014\n",
      "1058  0.692696   1.08177  78.3993\n",
      "1059   0.60459   1.09144  78.7548\n",
      "1060  0.672305    1.0265  78.4131\n",
      "1061  0.833723  0.970334  78.6436\n",
      "1062  0.896245  0.938496  78.5835\n",
      "1063  0.736482  0.915006  78.5835\n",
      "1064  0.229587  0.942755  78.6045\n",
      "1065   0.24039  0.968181  78.8345\n",
      "1066  0.440752   0.95493  78.6725\n",
      "1067  0.530413  0.948717  78.6864\n",
      "1068  0.729575   1.17244  79.0238\n",
      "1069  0.729575   1.17244  79.1971\n",
      "\n",
      "[1070 rows x 3 columns]\n",
      "       sumGyro    sumAcc   sumMag\n",
      "0     0.727668   1.05383  88.9395\n",
      "1      0.32408   1.07085  88.9755\n",
      "2     0.504084   1.10323  89.0718\n",
      "3     0.667718    1.1108  89.0718\n",
      "4     0.675383   1.05258  88.9159\n",
      "5     0.477125  0.992429  88.9983\n",
      "6     0.194089  0.980504  89.2368\n",
      "7     0.171188  0.999304  89.0169\n",
      "8     0.412254   1.03696  88.8856\n",
      "9     0.547861   1.04409  88.7838\n",
      "10    0.472963   1.01598  88.7838\n",
      "11     0.30789  0.998031  88.5465\n",
      "12    0.152333  0.980736  88.7289\n",
      "13    0.164292  0.966738  88.7019\n",
      "14    0.164292  0.963966   88.897\n",
      "15    0.156852  0.959095  88.5505\n",
      "16    0.149782  0.988839  88.5505\n",
      "17    0.172997  0.997828  88.4695\n",
      "18    0.289386   1.01268  88.7464\n",
      "19    0.289386   1.01268  88.6207\n",
      "20    0.225314   1.03751  88.6651\n",
      "21     0.23241   1.00693  88.5671\n",
      "22     0.23241   1.00693  88.5671\n",
      "23    0.305734  0.947077  88.3387\n",
      "24    0.262743  0.894007  88.7775\n",
      "25    0.262743  0.894007  88.7544\n",
      "26    0.361645  0.946856  88.6119\n",
      "27    0.378827   0.99223  88.4932\n",
      "28    0.378827   0.99223  88.4945\n",
      "29    0.311285   1.05704  88.4945\n",
      "...        ...       ...      ...\n",
      "1040  0.355854   1.04662  78.2912\n",
      "1041  0.484791   1.01031  78.3617\n",
      "1042  0.565676  0.987445  78.0887\n",
      "1043  0.539958  0.992093  78.0968\n",
      "1044  0.417046  0.968088  78.0968\n",
      "1045  0.464684   0.95367  77.6901\n",
      "1046  0.695192  0.883393  77.8017\n",
      "1047  0.843029  0.833664  77.4613\n",
      "1048  0.863825  0.867347  77.4438\n",
      "1049  0.747749  0.919878  77.3554\n",
      "1050  0.643931  0.958961  77.5586\n",
      "1051  0.697374  0.911732  77.5586\n",
      "1052  0.864074   0.87971  77.3691\n",
      "1053   0.89731  0.942604  77.7957\n",
      "1054  0.864393   1.01011  78.2239\n",
      "1055  0.856063   1.06666  78.3994\n",
      "1056  0.826078   1.10148  78.5014\n",
      "1057  0.787518   1.08178  78.5014\n",
      "1058  0.692696   1.08177  78.3993\n",
      "1059   0.60459   1.09144  78.7548\n",
      "1060  0.672305    1.0265  78.4131\n",
      "1061  0.833723  0.970334  78.6436\n",
      "1062  0.896245  0.938496  78.5835\n",
      "1063  0.736482  0.915006  78.5835\n",
      "1064  0.229587  0.942755  78.6045\n",
      "1065   0.24039  0.968181  78.8345\n",
      "1066  0.440752   0.95493  78.6725\n",
      "1067  0.530413  0.948717  78.6864\n",
      "1068  0.729575   1.17244  79.0238\n",
      "1069  0.729575   1.17244  79.1971\n",
      "\n",
      "[1070 rows x 3 columns]\n"
     ]
    }
   ],
   "source": [
    "final_ten_df.reset_index(inplace = True)\n",
    "final__ten_df = final_ten_df.drop('index', axis=1)\n",
    "print (final__ten_df)\n",
    "\n",
    "final_twenty_df.reset_index(inplace = True)\n",
    "final__twenty_df = final_twenty_df.drop('index', axis=1)\n",
    "print (final__twenty_df)\n",
    "\n",
    "final_thirty_df.reset_index(inplace = True)\n",
    "final__thirty_df = final_thirty_df.drop('index', axis=1)\n",
    "print (final__thirty_df)"
   ]
  },
  {
   "cell_type": "code",
   "execution_count": 13,
   "metadata": {},
   "outputs": [
    {
     "ename": "KeyError",
     "evalue": "'level_0'",
     "output_type": "error",
     "traceback": [
      "\u001b[0;31m---------------------------------------------------------------------------\u001b[0m",
      "\u001b[0;31mKeyError\u001b[0m                                  Traceback (most recent call last)",
      "\u001b[0;32m/usr/local/lib/python3.7/site-packages/pandas/core/indexes/base.py\u001b[0m in \u001b[0;36mget_loc\u001b[0;34m(self, key, method, tolerance)\u001b[0m\n\u001b[1;32m   3077\u001b[0m             \u001b[0;32mtry\u001b[0m\u001b[0;34m:\u001b[0m\u001b[0;34m\u001b[0m\u001b[0m\n\u001b[0;32m-> 3078\u001b[0;31m                 \u001b[0;32mreturn\u001b[0m \u001b[0mself\u001b[0m\u001b[0;34m.\u001b[0m\u001b[0m_engine\u001b[0m\u001b[0;34m.\u001b[0m\u001b[0mget_loc\u001b[0m\u001b[0;34m(\u001b[0m\u001b[0mkey\u001b[0m\u001b[0;34m)\u001b[0m\u001b[0;34m\u001b[0m\u001b[0m\n\u001b[0m\u001b[1;32m   3079\u001b[0m             \u001b[0;32mexcept\u001b[0m \u001b[0mKeyError\u001b[0m\u001b[0;34m:\u001b[0m\u001b[0;34m\u001b[0m\u001b[0m\n",
      "\u001b[0;32mpandas/_libs/index.pyx\u001b[0m in \u001b[0;36mpandas._libs.index.IndexEngine.get_loc\u001b[0;34m()\u001b[0m\n",
      "\u001b[0;32mpandas/_libs/index.pyx\u001b[0m in \u001b[0;36mpandas._libs.index.IndexEngine.get_loc\u001b[0;34m()\u001b[0m\n",
      "\u001b[0;32mpandas/_libs/hashtable_class_helper.pxi\u001b[0m in \u001b[0;36mpandas._libs.hashtable.PyObjectHashTable.get_item\u001b[0;34m()\u001b[0m\n",
      "\u001b[0;32mpandas/_libs/hashtable_class_helper.pxi\u001b[0m in \u001b[0;36mpandas._libs.hashtable.PyObjectHashTable.get_item\u001b[0;34m()\u001b[0m\n",
      "\u001b[0;31mKeyError\u001b[0m: 'level_0'",
      "\nDuring handling of the above exception, another exception occurred:\n",
      "\u001b[0;31mKeyError\u001b[0m                                  Traceback (most recent call last)",
      "\u001b[0;32m<ipython-input-13-86abaab43e83>\u001b[0m in \u001b[0;36m<module>\u001b[0;34m()\u001b[0m\n\u001b[1;32m      2\u001b[0m \u001b[0msumAcc\u001b[0m \u001b[0;34m=\u001b[0m \u001b[0mfinal_ten_df\u001b[0m\u001b[0;34m[\u001b[0m\u001b[0;34m'sumAcc'\u001b[0m\u001b[0;34m]\u001b[0m\u001b[0;34m\u001b[0m\u001b[0m\n\u001b[1;32m      3\u001b[0m \u001b[0msumMag\u001b[0m \u001b[0;34m=\u001b[0m \u001b[0mfinal_ten_df\u001b[0m\u001b[0;34m[\u001b[0m\u001b[0;34m'sumMag'\u001b[0m\u001b[0;34m]\u001b[0m\u001b[0;34m\u001b[0m\u001b[0m\n\u001b[0;32m----> 4\u001b[0;31m \u001b[0mindex\u001b[0m \u001b[0;34m=\u001b[0m \u001b[0mfinal_ten_df\u001b[0m\u001b[0;34m[\u001b[0m\u001b[0;34m'level_0'\u001b[0m\u001b[0;34m]\u001b[0m\u001b[0;34m\u001b[0m\u001b[0m\n\u001b[0m\u001b[1;32m      5\u001b[0m \u001b[0;34m\u001b[0m\u001b[0m\n\u001b[1;32m      6\u001b[0m \u001b[0mplt\u001b[0m\u001b[0;34m.\u001b[0m\u001b[0mfigure\u001b[0m\u001b[0;34m(\u001b[0m\u001b[0mfigsize\u001b[0m\u001b[0;34m=\u001b[0m\u001b[0;34m(\u001b[0m\u001b[0;36m16\u001b[0m\u001b[0;34m,\u001b[0m\u001b[0;36m5\u001b[0m\u001b[0;34m)\u001b[0m\u001b[0;34m)\u001b[0m\u001b[0;34m\u001b[0m\u001b[0m\n",
      "\u001b[0;32m/usr/local/lib/python3.7/site-packages/pandas/core/frame.py\u001b[0m in \u001b[0;36m__getitem__\u001b[0;34m(self, key)\u001b[0m\n\u001b[1;32m   2686\u001b[0m             \u001b[0;32mreturn\u001b[0m \u001b[0mself\u001b[0m\u001b[0;34m.\u001b[0m\u001b[0m_getitem_multilevel\u001b[0m\u001b[0;34m(\u001b[0m\u001b[0mkey\u001b[0m\u001b[0;34m)\u001b[0m\u001b[0;34m\u001b[0m\u001b[0m\n\u001b[1;32m   2687\u001b[0m         \u001b[0;32melse\u001b[0m\u001b[0;34m:\u001b[0m\u001b[0;34m\u001b[0m\u001b[0m\n\u001b[0;32m-> 2688\u001b[0;31m             \u001b[0;32mreturn\u001b[0m \u001b[0mself\u001b[0m\u001b[0;34m.\u001b[0m\u001b[0m_getitem_column\u001b[0m\u001b[0;34m(\u001b[0m\u001b[0mkey\u001b[0m\u001b[0;34m)\u001b[0m\u001b[0;34m\u001b[0m\u001b[0m\n\u001b[0m\u001b[1;32m   2689\u001b[0m \u001b[0;34m\u001b[0m\u001b[0m\n\u001b[1;32m   2690\u001b[0m     \u001b[0;32mdef\u001b[0m \u001b[0m_getitem_column\u001b[0m\u001b[0;34m(\u001b[0m\u001b[0mself\u001b[0m\u001b[0;34m,\u001b[0m \u001b[0mkey\u001b[0m\u001b[0;34m)\u001b[0m\u001b[0;34m:\u001b[0m\u001b[0;34m\u001b[0m\u001b[0m\n",
      "\u001b[0;32m/usr/local/lib/python3.7/site-packages/pandas/core/frame.py\u001b[0m in \u001b[0;36m_getitem_column\u001b[0;34m(self, key)\u001b[0m\n\u001b[1;32m   2693\u001b[0m         \u001b[0;31m# get column\u001b[0m\u001b[0;34m\u001b[0m\u001b[0;34m\u001b[0m\u001b[0m\n\u001b[1;32m   2694\u001b[0m         \u001b[0;32mif\u001b[0m \u001b[0mself\u001b[0m\u001b[0;34m.\u001b[0m\u001b[0mcolumns\u001b[0m\u001b[0;34m.\u001b[0m\u001b[0mis_unique\u001b[0m\u001b[0;34m:\u001b[0m\u001b[0;34m\u001b[0m\u001b[0m\n\u001b[0;32m-> 2695\u001b[0;31m             \u001b[0;32mreturn\u001b[0m \u001b[0mself\u001b[0m\u001b[0;34m.\u001b[0m\u001b[0m_get_item_cache\u001b[0m\u001b[0;34m(\u001b[0m\u001b[0mkey\u001b[0m\u001b[0;34m)\u001b[0m\u001b[0;34m\u001b[0m\u001b[0m\n\u001b[0m\u001b[1;32m   2696\u001b[0m \u001b[0;34m\u001b[0m\u001b[0m\n\u001b[1;32m   2697\u001b[0m         \u001b[0;31m# duplicate columns & possible reduce dimensionality\u001b[0m\u001b[0;34m\u001b[0m\u001b[0;34m\u001b[0m\u001b[0m\n",
      "\u001b[0;32m/usr/local/lib/python3.7/site-packages/pandas/core/generic.py\u001b[0m in \u001b[0;36m_get_item_cache\u001b[0;34m(self, item)\u001b[0m\n\u001b[1;32m   2487\u001b[0m         \u001b[0mres\u001b[0m \u001b[0;34m=\u001b[0m \u001b[0mcache\u001b[0m\u001b[0;34m.\u001b[0m\u001b[0mget\u001b[0m\u001b[0;34m(\u001b[0m\u001b[0mitem\u001b[0m\u001b[0;34m)\u001b[0m\u001b[0;34m\u001b[0m\u001b[0m\n\u001b[1;32m   2488\u001b[0m         \u001b[0;32mif\u001b[0m \u001b[0mres\u001b[0m \u001b[0;32mis\u001b[0m \u001b[0;32mNone\u001b[0m\u001b[0;34m:\u001b[0m\u001b[0;34m\u001b[0m\u001b[0m\n\u001b[0;32m-> 2489\u001b[0;31m             \u001b[0mvalues\u001b[0m \u001b[0;34m=\u001b[0m \u001b[0mself\u001b[0m\u001b[0;34m.\u001b[0m\u001b[0m_data\u001b[0m\u001b[0;34m.\u001b[0m\u001b[0mget\u001b[0m\u001b[0;34m(\u001b[0m\u001b[0mitem\u001b[0m\u001b[0;34m)\u001b[0m\u001b[0;34m\u001b[0m\u001b[0m\n\u001b[0m\u001b[1;32m   2490\u001b[0m             \u001b[0mres\u001b[0m \u001b[0;34m=\u001b[0m \u001b[0mself\u001b[0m\u001b[0;34m.\u001b[0m\u001b[0m_box_item_values\u001b[0m\u001b[0;34m(\u001b[0m\u001b[0mitem\u001b[0m\u001b[0;34m,\u001b[0m \u001b[0mvalues\u001b[0m\u001b[0;34m)\u001b[0m\u001b[0;34m\u001b[0m\u001b[0m\n\u001b[1;32m   2491\u001b[0m             \u001b[0mcache\u001b[0m\u001b[0;34m[\u001b[0m\u001b[0mitem\u001b[0m\u001b[0;34m]\u001b[0m \u001b[0;34m=\u001b[0m \u001b[0mres\u001b[0m\u001b[0;34m\u001b[0m\u001b[0m\n",
      "\u001b[0;32m/usr/local/lib/python3.7/site-packages/pandas/core/internals.py\u001b[0m in \u001b[0;36mget\u001b[0;34m(self, item, fastpath)\u001b[0m\n\u001b[1;32m   4113\u001b[0m \u001b[0;34m\u001b[0m\u001b[0m\n\u001b[1;32m   4114\u001b[0m             \u001b[0;32mif\u001b[0m \u001b[0;32mnot\u001b[0m \u001b[0misna\u001b[0m\u001b[0;34m(\u001b[0m\u001b[0mitem\u001b[0m\u001b[0;34m)\u001b[0m\u001b[0;34m:\u001b[0m\u001b[0;34m\u001b[0m\u001b[0m\n\u001b[0;32m-> 4115\u001b[0;31m                 \u001b[0mloc\u001b[0m \u001b[0;34m=\u001b[0m \u001b[0mself\u001b[0m\u001b[0;34m.\u001b[0m\u001b[0mitems\u001b[0m\u001b[0;34m.\u001b[0m\u001b[0mget_loc\u001b[0m\u001b[0;34m(\u001b[0m\u001b[0mitem\u001b[0m\u001b[0;34m)\u001b[0m\u001b[0;34m\u001b[0m\u001b[0m\n\u001b[0m\u001b[1;32m   4116\u001b[0m             \u001b[0;32melse\u001b[0m\u001b[0;34m:\u001b[0m\u001b[0;34m\u001b[0m\u001b[0m\n\u001b[1;32m   4117\u001b[0m                 \u001b[0mindexer\u001b[0m \u001b[0;34m=\u001b[0m \u001b[0mnp\u001b[0m\u001b[0;34m.\u001b[0m\u001b[0marange\u001b[0m\u001b[0;34m(\u001b[0m\u001b[0mlen\u001b[0m\u001b[0;34m(\u001b[0m\u001b[0mself\u001b[0m\u001b[0;34m.\u001b[0m\u001b[0mitems\u001b[0m\u001b[0;34m)\u001b[0m\u001b[0;34m)\u001b[0m\u001b[0;34m[\u001b[0m\u001b[0misna\u001b[0m\u001b[0;34m(\u001b[0m\u001b[0mself\u001b[0m\u001b[0;34m.\u001b[0m\u001b[0mitems\u001b[0m\u001b[0;34m)\u001b[0m\u001b[0;34m]\u001b[0m\u001b[0;34m\u001b[0m\u001b[0m\n",
      "\u001b[0;32m/usr/local/lib/python3.7/site-packages/pandas/core/indexes/base.py\u001b[0m in \u001b[0;36mget_loc\u001b[0;34m(self, key, method, tolerance)\u001b[0m\n\u001b[1;32m   3078\u001b[0m                 \u001b[0;32mreturn\u001b[0m \u001b[0mself\u001b[0m\u001b[0;34m.\u001b[0m\u001b[0m_engine\u001b[0m\u001b[0;34m.\u001b[0m\u001b[0mget_loc\u001b[0m\u001b[0;34m(\u001b[0m\u001b[0mkey\u001b[0m\u001b[0;34m)\u001b[0m\u001b[0;34m\u001b[0m\u001b[0m\n\u001b[1;32m   3079\u001b[0m             \u001b[0;32mexcept\u001b[0m \u001b[0mKeyError\u001b[0m\u001b[0;34m:\u001b[0m\u001b[0;34m\u001b[0m\u001b[0m\n\u001b[0;32m-> 3080\u001b[0;31m                 \u001b[0;32mreturn\u001b[0m \u001b[0mself\u001b[0m\u001b[0;34m.\u001b[0m\u001b[0m_engine\u001b[0m\u001b[0;34m.\u001b[0m\u001b[0mget_loc\u001b[0m\u001b[0;34m(\u001b[0m\u001b[0mself\u001b[0m\u001b[0;34m.\u001b[0m\u001b[0m_maybe_cast_indexer\u001b[0m\u001b[0;34m(\u001b[0m\u001b[0mkey\u001b[0m\u001b[0;34m)\u001b[0m\u001b[0;34m)\u001b[0m\u001b[0;34m\u001b[0m\u001b[0m\n\u001b[0m\u001b[1;32m   3081\u001b[0m \u001b[0;34m\u001b[0m\u001b[0m\n\u001b[1;32m   3082\u001b[0m         \u001b[0mindexer\u001b[0m \u001b[0;34m=\u001b[0m \u001b[0mself\u001b[0m\u001b[0;34m.\u001b[0m\u001b[0mget_indexer\u001b[0m\u001b[0;34m(\u001b[0m\u001b[0;34m[\u001b[0m\u001b[0mkey\u001b[0m\u001b[0;34m]\u001b[0m\u001b[0;34m,\u001b[0m \u001b[0mmethod\u001b[0m\u001b[0;34m=\u001b[0m\u001b[0mmethod\u001b[0m\u001b[0;34m,\u001b[0m \u001b[0mtolerance\u001b[0m\u001b[0;34m=\u001b[0m\u001b[0mtolerance\u001b[0m\u001b[0;34m)\u001b[0m\u001b[0;34m\u001b[0m\u001b[0m\n",
      "\u001b[0;32mpandas/_libs/index.pyx\u001b[0m in \u001b[0;36mpandas._libs.index.IndexEngine.get_loc\u001b[0;34m()\u001b[0m\n",
      "\u001b[0;32mpandas/_libs/index.pyx\u001b[0m in \u001b[0;36mpandas._libs.index.IndexEngine.get_loc\u001b[0;34m()\u001b[0m\n",
      "\u001b[0;32mpandas/_libs/hashtable_class_helper.pxi\u001b[0m in \u001b[0;36mpandas._libs.hashtable.PyObjectHashTable.get_item\u001b[0;34m()\u001b[0m\n",
      "\u001b[0;32mpandas/_libs/hashtable_class_helper.pxi\u001b[0m in \u001b[0;36mpandas._libs.hashtable.PyObjectHashTable.get_item\u001b[0;34m()\u001b[0m\n",
      "\u001b[0;31mKeyError\u001b[0m: 'level_0'"
     ]
    }
   ],
   "source": [
    "sumGyro = final_ten_df['sumGyro']\n",
    "sumAcc = final_ten_df['sumAcc']\n",
    "sumMag = final_ten_df['sumMag']\n",
    "index = final_ten_df['level_0']\n",
    "\n",
    "plt.figure(figsize=(16,5))\n",
    "plt.plot(index, sumGyro)\n",
    "plt.title('sumGyro 10ft')\n",
    "plt.xlabel('Index')\n",
    "plt.ylabel('sumGyro')\n",
    "plt.show()\n",
    "\n",
    "plt.figure(figsize=(16,5))\n",
    "plt.plot(index, sumAcc)\n",
    "plt.title('sumAcc 10ft')\n",
    "plt.xlabel('Index')\n",
    "plt.ylabel('sumAcc')\n",
    "plt.show()\n",
    "\n",
    "plt.figure(figsize=(16,5))\n",
    "plt.plot(index, sumMag)\n",
    "plt.title('sumMag 10ft')\n",
    "plt.xlabel('Index')\n",
    "plt.ylabel('sumMag')\n",
    "plt.show()"
   ]
  },
  {
   "cell_type": "code",
   "execution_count": 14,
   "metadata": {},
   "outputs": [
    {
     "name": "stdout",
     "output_type": "stream",
     "text": [
      "            index\n",
      "count  489.000000\n",
      "mean   244.000000\n",
      "std    141.306405\n",
      "min      0.000000\n",
      "25%    122.000000\n",
      "50%    244.000000\n",
      "75%    366.000000\n",
      "max    488.000000\n",
      "     index  sumGyro   sumAcc  sumMag\n",
      "221    221  3.52756  1.33875  76.129\n",
      "     index  sumGyro   sumAcc   sumMag\n",
      "252    252  1.89931  1.10961  74.9542\n"
     ]
    }
   ],
   "source": [
    "print (final_ten_df.describe())\n",
    "print (final_ten_df[final_ten_df['sumGyro']==final_ten_df['sumGyro'].max()])\n",
    "print (final_ten_df[final_ten_df['sumMag']==final_ten_df['sumMag'].min()])"
   ]
  },
  {
   "cell_type": "code",
   "execution_count": 15,
   "metadata": {},
   "outputs": [
    {
     "data": {
      "image/png": "[encoded data removed]",
      "text/plain": [
       "<Figure size 1152x360 with 1 Axes>"
      ]
     },
     "metadata": {},
     "output_type": "display_data"
    },
    {
     "ename": "NameError",
     "evalue": "name 'avgAcc' is not defined",
     "output_type": "error",
     "traceback": [
      "\u001b[0;31m---------------------------------------------------------------------------\u001b[0m",
      "\u001b[0;31mNameError\u001b[0m                                 Traceback (most recent call last)",
      "\u001b[0;32m<ipython-input-15-7c58cd34506a>\u001b[0m in \u001b[0;36m<module>\u001b[0;34m()\u001b[0m\n\u001b[1;32m     13\u001b[0m \u001b[0mplt\u001b[0m\u001b[0;34m.\u001b[0m\u001b[0mfigure\u001b[0m\u001b[0;34m(\u001b[0m\u001b[0mfigsize\u001b[0m\u001b[0;34m=\u001b[0m\u001b[0;34m(\u001b[0m\u001b[0;36m16\u001b[0m\u001b[0;34m,\u001b[0m\u001b[0;36m5\u001b[0m\u001b[0;34m)\u001b[0m\u001b[0;34m)\u001b[0m\u001b[0;34m\u001b[0m\u001b[0m\n\u001b[1;32m     14\u001b[0m \u001b[0mplt\u001b[0m\u001b[0;34m.\u001b[0m\u001b[0mplot\u001b[0m\u001b[0;34m(\u001b[0m\u001b[0mindex\u001b[0m\u001b[0;34m,\u001b[0m \u001b[0msumAcc\u001b[0m\u001b[0;34m)\u001b[0m\u001b[0;34m\u001b[0m\u001b[0m\n\u001b[0;32m---> 15\u001b[0;31m \u001b[0mplt\u001b[0m\u001b[0;34m.\u001b[0m\u001b[0maxhline\u001b[0m\u001b[0;34m(\u001b[0m\u001b[0my\u001b[0m\u001b[0;34m=\u001b[0m\u001b[0mavgAcc\u001b[0m\u001b[0;34m,\u001b[0m \u001b[0mcolor\u001b[0m\u001b[0;34m=\u001b[0m\u001b[0;34m'r'\u001b[0m\u001b[0;34m,\u001b[0m \u001b[0mlinestyle\u001b[0m\u001b[0;34m=\u001b[0m\u001b[0;34m'-'\u001b[0m\u001b[0;34m)\u001b[0m\u001b[0;34m\u001b[0m\u001b[0m\n\u001b[0m\u001b[1;32m     16\u001b[0m \u001b[0mplt\u001b[0m\u001b[0;34m.\u001b[0m\u001b[0mtitle\u001b[0m\u001b[0;34m(\u001b[0m\u001b[0;34m'sumAcc 20ft'\u001b[0m\u001b[0;34m)\u001b[0m\u001b[0;34m\u001b[0m\u001b[0m\n\u001b[1;32m     17\u001b[0m \u001b[0mplt\u001b[0m\u001b[0;34m.\u001b[0m\u001b[0mxlabel\u001b[0m\u001b[0;34m(\u001b[0m\u001b[0;34m'Index'\u001b[0m\u001b[0;34m)\u001b[0m\u001b[0;34m\u001b[0m\u001b[0m\n",
      "\u001b[0;31mNameError\u001b[0m: name 'avgAcc' is not defined"
     ]
    },
    {
     "data": {
      "image/png": "[encoded data removed]",
      "text/plain": [
       "<Figure size 1152x360 with 1 Axes>"
      ]
     },
     "metadata": {},
     "output_type": "display_data"
    }
   ],
   "source": [
    "sumGyro = final_twenty_df['sumGyro']\n",
    "sumAcc = final_twenty_df['sumAcc']\n",
    "sumMag = final_twenty_df['sumMag']\n",
    "index = final_twenty_df['index']\n",
    "\n",
    "plt.figure(figsize=(16,5))\n",
    "plt.plot(index, sumGyro)\n",
    "plt.title('sumGyro 20ft')\n",
    "plt.xlabel('Index')\n",
    "plt.ylabel('sumGyro')\n",
    "plt.show()\n",
    "\n",
    "plt.figure(figsize=(16,5))\n",
    "plt.plot(index, sumAcc)\n",
    "plt.axhline(y=avgAcc, color='r', linestyle='-')\n",
    "plt.title('sumAcc 20ft')\n",
    "plt.xlabel('Index')\n",
    "plt.ylabel('sumAcc')\n",
    "plt.show()\n",
    "\n",
    "plt.figure(figsize=(16,5))\n",
    "plt.plot(index, sumMag)\n",
    "plt.title('sumMag 20ft')\n",
    "plt.xlabel('Index')\n",
    "plt.ylabel('sumMag')\n",
    "plt.show()"
   ]
  },
  {
   "cell_type": "code",
   "execution_count": 16,
   "metadata": {},
   "outputs": [
    {
     "name": "stdout",
     "output_type": "stream",
     "text": [
      "             index\n",
      "count  1070.000000\n",
      "mean    534.500000\n",
      "std     309.026698\n",
      "min       0.000000\n",
      "25%     267.250000\n",
      "50%     534.500000\n",
      "75%     801.750000\n",
      "max    1069.000000\n",
      "     index  sumGyro    sumAcc   sumMag\n",
      "517    517  3.78233  0.911851  79.9011\n",
      "     index  sumGyro   sumAcc   sumMag\n",
      "543    543  2.42654  1.00664  74.1042\n"
     ]
    }
   ],
   "source": [
    "print (final_twenty_df.describe())\n",
    "print (final_twenty_df[final_twenty_df['sumGyro']==final_twenty_df['sumGyro'].max()])\n",
    "print (final_twenty_df[final_twenty_df['sumMag']==final_twenty_df['sumMag'].min()])"
   ]
  },
  {
   "cell_type": "code",
   "execution_count": 17,
   "metadata": {},
   "outputs": [
    {
     "name": "stdout",
     "output_type": "stream",
     "text": [
      "1.1293853524041717\n"
     ]
    }
   ],
   "source": [
    "#find midline of acceleration modulated sine curve\n",
    "maxAcc = final_twenty_df[final_twenty_df['sumAcc']==final_twenty_df['sumAcc'].max()]\n",
    "minAcc = final_twenty_df[final_twenty_df['sumAcc']==final_twenty_df['sumAcc'].min()]\n",
    "avgAcc = float(list(minAcc['sumAcc'])[0] + list(maxAcc['sumAcc'])[0])/2\n",
    "print (avgAcc)"
   ]
  },
  {
   "cell_type": "markdown",
   "metadata": {},
   "source": [
    "# Moving Forward\n",
    "\n",
    "Next, we will use the range given to us by the max sumGyro row and the min sumMag row to split the data in half. \n",
    "\n",
    "##### Example: for 10ft data, the turning/midpoint happens between row 221 and 252. We will cut this piece out of our data. Every row before 221, exclusive, will be the first half of our travel. Everything after 252, exclusive, will be the second half. \n",
    "\n",
    "##### Example: for 20ft data, we need to exclude the rows from 517 to 543. \n",
    "\n",
    "\n",
    "The result will be two seperate csv files/dataframes for each dataset. We will compute for the position vectors for each and find the difference which will be the error. "
   ]
  },
  {
   "cell_type": "markdown",
   "metadata": {},
   "source": [
    "# Next Steps: \n",
    "- Use the pivot point to separate data into two paths\n",
    "- Calculate the position vectors for both paths\n",
    "- Find the error for the two paths"
   ]
  },
  {
   "cell_type": "markdown",
   "metadata": {},
   "source": [
    "## Analyzing 10ft Data\n"
   ]
  },
  {
   "cell_type": "code",
   "execution_count": 4,
   "metadata": {},
   "outputs": [],
   "source": [
    "#separate 10ft csv with the midpoiint 0 to 220 and 220 and include 253 to the 488\n"
   ]
  },
  {
   "cell_type": "code",
   "execution_count": 18,
   "metadata": {},
   "outputs": [
    {
     "data": {
      "text/html": [
       "<div>\n",
       "<style scoped>\n",
       "    .dataframe tbody tr th:only-of-type {\n",
       "        vertical-align: middle;\n",
       "    }\n",
       "\n",
       "    .dataframe tbody tr th {\n",
       "        vertical-align: top;\n",
       "    }\n",
       "\n",
       "    .dataframe thead th {\n",
       "        text-align: right;\n",
       "    }\n",
       "</style>\n",
       "<table border=\"1\" class=\"dataframe\">\n",
       "  <thead>\n",
       "    <tr style=\"text-align: right;\">\n",
       "      <th></th>\n",
       "      <th>index</th>\n",
       "      <th>sumGyro</th>\n",
       "      <th>sumAcc</th>\n",
       "      <th>sumMag</th>\n",
       "    </tr>\n",
       "  </thead>\n",
       "  <tbody>\n",
       "    <tr>\n",
       "      <th>210</th>\n",
       "      <td>210</td>\n",
       "      <td>2.41362</td>\n",
       "      <td>1.09918</td>\n",
       "      <td>78.1498</td>\n",
       "    </tr>\n",
       "    <tr>\n",
       "      <th>211</th>\n",
       "      <td>211</td>\n",
       "      <td>2.47966</td>\n",
       "      <td>1.12495</td>\n",
       "      <td>77.808</td>\n",
       "    </tr>\n",
       "    <tr>\n",
       "      <th>212</th>\n",
       "      <td>212</td>\n",
       "      <td>2.52522</td>\n",
       "      <td>1.12495</td>\n",
       "      <td>77.7684</td>\n",
       "    </tr>\n",
       "    <tr>\n",
       "      <th>213</th>\n",
       "      <td>213</td>\n",
       "      <td>2.5235</td>\n",
       "      <td>1.09354</td>\n",
       "      <td>77.7684</td>\n",
       "    </tr>\n",
       "    <tr>\n",
       "      <th>214</th>\n",
       "      <td>214</td>\n",
       "      <td>2.47588</td>\n",
       "      <td>1.07096</td>\n",
       "      <td>77.8329</td>\n",
       "    </tr>\n",
       "    <tr>\n",
       "      <th>215</th>\n",
       "      <td>215</td>\n",
       "      <td>2.44071</td>\n",
       "      <td>1.03234</td>\n",
       "      <td>77.1374</td>\n",
       "    </tr>\n",
       "    <tr>\n",
       "      <th>216</th>\n",
       "      <td>216</td>\n",
       "      <td>2.3803</td>\n",
       "      <td>0.961639</td>\n",
       "      <td>76.9925</td>\n",
       "    </tr>\n",
       "    <tr>\n",
       "      <th>217</th>\n",
       "      <td>217</td>\n",
       "      <td>2.37784</td>\n",
       "      <td>0.867126</td>\n",
       "      <td>76.7752</td>\n",
       "    </tr>\n",
       "    <tr>\n",
       "      <th>218</th>\n",
       "      <td>218</td>\n",
       "      <td>2.55568</td>\n",
       "      <td>0.830913</td>\n",
       "      <td>76.7794</td>\n",
       "    </tr>\n",
       "    <tr>\n",
       "      <th>219</th>\n",
       "      <td>219</td>\n",
       "      <td>3.03907</td>\n",
       "      <td>0.986108</td>\n",
       "      <td>76.7794</td>\n",
       "    </tr>\n",
       "  </tbody>\n",
       "</table>\n",
       "</div>"
      ],
      "text/plain": [
       "     index  sumGyro    sumAcc   sumMag\n",
       "210    210  2.41362   1.09918  78.1498\n",
       "211    211  2.47966   1.12495   77.808\n",
       "212    212  2.52522   1.12495  77.7684\n",
       "213    213   2.5235   1.09354  77.7684\n",
       "214    214  2.47588   1.07096  77.8329\n",
       "215    215  2.44071   1.03234  77.1374\n",
       "216    216   2.3803  0.961639  76.9925\n",
       "217    217  2.37784  0.867126  76.7752\n",
       "218    218  2.55568  0.830913  76.7794\n",
       "219    219  3.03907  0.986108  76.7794"
      ]
     },
     "execution_count": 18,
     "metadata": {},
     "output_type": "execute_result"
    }
   ],
   "source": [
    "# final_ten_df.shape\n",
    "first_half_10ft = (final_ten_df.loc[0:219,:])\n",
    "first_half_10ft.tail(10)\n",
    "# first_half_10ft.shape"
   ]
  },
  {
   "cell_type": "code",
   "execution_count": 19,
   "metadata": {},
   "outputs": [
    {
     "data": {
      "text/html": [
       "<div>\n",
       "<style scoped>\n",
       "    .dataframe tbody tr th:only-of-type {\n",
       "        vertical-align: middle;\n",
       "    }\n",
       "\n",
       "    .dataframe tbody tr th {\n",
       "        vertical-align: top;\n",
       "    }\n",
       "\n",
       "    .dataframe thead th {\n",
       "        text-align: right;\n",
       "    }\n",
       "</style>\n",
       "<table border=\"1\" class=\"dataframe\">\n",
       "  <thead>\n",
       "    <tr style=\"text-align: right;\">\n",
       "      <th></th>\n",
       "      <th>index</th>\n",
       "      <th>sumGyro</th>\n",
       "      <th>sumAcc</th>\n",
       "      <th>sumMag</th>\n",
       "    </tr>\n",
       "  </thead>\n",
       "  <tbody>\n",
       "    <tr>\n",
       "      <th>478</th>\n",
       "      <td>478</td>\n",
       "      <td>0.235544</td>\n",
       "      <td>1.02846</td>\n",
       "      <td>75.7481</td>\n",
       "    </tr>\n",
       "    <tr>\n",
       "      <th>479</th>\n",
       "      <td>479</td>\n",
       "      <td>0.244535</td>\n",
       "      <td>1.00858</td>\n",
       "      <td>75.6622</td>\n",
       "    </tr>\n",
       "    <tr>\n",
       "      <th>480</th>\n",
       "      <td>480</td>\n",
       "      <td>0.173755</td>\n",
       "      <td>0.980579</td>\n",
       "      <td>75.682</td>\n",
       "    </tr>\n",
       "    <tr>\n",
       "      <th>481</th>\n",
       "      <td>481</td>\n",
       "      <td>0.173755</td>\n",
       "      <td>0.958024</td>\n",
       "      <td>75.682</td>\n",
       "    </tr>\n",
       "    <tr>\n",
       "      <th>482</th>\n",
       "      <td>482</td>\n",
       "      <td>0.210194</td>\n",
       "      <td>0.951855</td>\n",
       "      <td>75.6177</td>\n",
       "    </tr>\n",
       "    <tr>\n",
       "      <th>483</th>\n",
       "      <td>483</td>\n",
       "      <td>0.880425</td>\n",
       "      <td>0.903361</td>\n",
       "      <td>76.1835</td>\n",
       "    </tr>\n",
       "    <tr>\n",
       "      <th>484</th>\n",
       "      <td>484</td>\n",
       "      <td>0.880425</td>\n",
       "      <td>0.903361</td>\n",
       "      <td>76.1835</td>\n",
       "    </tr>\n",
       "    <tr>\n",
       "      <th>485</th>\n",
       "      <td>485</td>\n",
       "      <td>0.598175</td>\n",
       "      <td>0.997727</td>\n",
       "      <td>76.1683</td>\n",
       "    </tr>\n",
       "    <tr>\n",
       "      <th>486</th>\n",
       "      <td>486</td>\n",
       "      <td>0.877052</td>\n",
       "      <td>1.10148</td>\n",
       "      <td>76.2444</td>\n",
       "    </tr>\n",
       "    <tr>\n",
       "      <th>487</th>\n",
       "      <td>487</td>\n",
       "      <td>0.651567</td>\n",
       "      <td>1.15067</td>\n",
       "      <td>76.3127</td>\n",
       "    </tr>\n",
       "  </tbody>\n",
       "</table>\n",
       "</div>"
      ],
      "text/plain": [
       "     index   sumGyro    sumAcc   sumMag\n",
       "478    478  0.235544   1.02846  75.7481\n",
       "479    479  0.244535   1.00858  75.6622\n",
       "480    480  0.173755  0.980579   75.682\n",
       "481    481  0.173755  0.958024   75.682\n",
       "482    482  0.210194  0.951855  75.6177\n",
       "483    483  0.880425  0.903361  76.1835\n",
       "484    484  0.880425  0.903361  76.1835\n",
       "485    485  0.598175  0.997727  76.1683\n",
       "486    486  0.877052   1.10148  76.2444\n",
       "487    487  0.651567   1.15067  76.3127"
      ]
     },
     "execution_count": 19,
     "metadata": {},
     "output_type": "execute_result"
    }
   ],
   "source": [
    "second_half_10ft = (final_ten_df.loc[252:487,:])\n",
    "second_half_10ft.tail(10)\n",
    "# second_half_10ft.shape"
   ]
  },
  {
   "cell_type": "code",
   "execution_count": 20,
   "metadata": {
    "scrolled": true
   },
   "outputs": [
    {
     "name": "stdout",
     "output_type": "stream",
     "text": [
      "First 10ft data\n",
      "Sum of all rows of sumGyro: 124.05559637445863\n",
      "Sum of all rows of sumAcc: 225.6093083819311\n",
      "Sum of all rows of sumMag: 18248.34674562154\n",
      "Second 10ft data\n",
      "Sum of all rows of sumGyro: 123.41674695830079\n",
      "Sum of all rows of sumAcc: 242.57765730581244\n",
      "Sum of all rows of sumMag: 18457.468640311206\n"
     ]
    }
   ],
   "source": [
    "# take position vector of first_half_10ft and second_half_10ft and find the difference\n",
    "print('First 10ft data')\n",
    "print('Sum of all rows of sumGyro: ' + str(first_half_10ft['sumGyro'].sum()))\n",
    "print('Sum of all rows of sumAcc: ' + str(first_half_10ft['sumAcc'].sum()))\n",
    "print('Sum of all rows of sumMag: ' + str(first_half_10ft['sumMag'].sum()))\n",
    "\n",
    "totalSumGyro = first_half_10ft['sumGyro'].sum()\n",
    "totalSumAcc = first_half_10ft['sumAcc'].sum()\n",
    "totalSumMag = first_half_10ft['sumMag'].sum()\n",
    "\n",
    "print('Second 10ft data')\n",
    "print('Sum of all rows of sumGyro: ' + str(second_half_10ft['sumGyro'].sum()))\n",
    "print('Sum of all rows of sumAcc: ' + str(second_half_10ft['sumAcc'].sum()))\n",
    "print('Sum of all rows of sumMag: ' + str(second_half_10ft['sumMag'].sum()))\n",
    "\n",
    "totalSumGyro2 = second_half_10ft['sumGyro'].sum()\n",
    "totalSumAcc2 = second_half_10ft['sumAcc'].sum()\n",
    "totalSumMag2 = second_half_10ft['sumMag'].sum()\n",
    "\n"
   ]
  },
  {
   "cell_type": "code",
   "execution_count": 21,
   "metadata": {},
   "outputs": [
    {
     "name": "stdout",
     "output_type": "stream",
     "text": [
      "Percent Error of 10ft Gyro: 0.6388494161578393\n"
     ]
    }
   ],
   "source": [
    "#take last row of sumGyro, sumAcc, sumMag (second half - first half)\n",
    "ten_feet_error_diff_gyro = (totalSumGyro - totalSumGyro2)\n",
    "print('Percent Error of 10ft Gyro: ' + str(ten_feet_error_diff_gyro))"
   ]
  },
  {
   "cell_type": "code",
   "execution_count": 22,
   "metadata": {},
   "outputs": [
    {
     "name": "stdout",
     "output_type": "stream",
     "text": [
      "Percent Error of 10ft Acc: -16.968348923881337\n"
     ]
    }
   ],
   "source": [
    "ten_feet_error_diff_acc = (totalSumAcc - totalSumAcc2)\n",
    "print('Percent Error of 10ft Acc: ' + str(ten_feet_error_diff_acc))"
   ]
  },
  {
   "cell_type": "code",
   "execution_count": 23,
   "metadata": {},
   "outputs": [
    {
     "name": "stdout",
     "output_type": "stream",
     "text": [
      "Percent Error of 10ft Mag: -209.12189468966608\n"
     ]
    }
   ],
   "source": [
    "ten_feet_error_diff_mag = (totalSumMag - totalSumMag2)\n",
    "print('Percent Error of 10ft Mag: ' + str(ten_feet_error_diff_mag))"
   ]
  },
  {
   "cell_type": "markdown",
   "metadata": {},
   "source": [
    "## Analyzing 20ft data"
   ]
  },
  {
   "cell_type": "code",
   "execution_count": 24,
   "metadata": {},
   "outputs": [
    {
     "data": {
      "text/html": [
       "<div>\n",
       "<style scoped>\n",
       "    .dataframe tbody tr th:only-of-type {\n",
       "        vertical-align: middle;\n",
       "    }\n",
       "\n",
       "    .dataframe tbody tr th {\n",
       "        vertical-align: top;\n",
       "    }\n",
       "\n",
       "    .dataframe thead th {\n",
       "        text-align: right;\n",
       "    }\n",
       "</style>\n",
       "<table border=\"1\" class=\"dataframe\">\n",
       "  <thead>\n",
       "    <tr style=\"text-align: right;\">\n",
       "      <th></th>\n",
       "      <th>index</th>\n",
       "      <th>sumGyro</th>\n",
       "      <th>sumAcc</th>\n",
       "      <th>sumMag</th>\n",
       "    </tr>\n",
       "  </thead>\n",
       "  <tbody>\n",
       "    <tr>\n",
       "      <th>0</th>\n",
       "      <td>0</td>\n",
       "      <td>0.727668</td>\n",
       "      <td>1.05383</td>\n",
       "      <td>88.9395</td>\n",
       "    </tr>\n",
       "    <tr>\n",
       "      <th>1</th>\n",
       "      <td>1</td>\n",
       "      <td>0.32408</td>\n",
       "      <td>1.07085</td>\n",
       "      <td>88.9755</td>\n",
       "    </tr>\n",
       "    <tr>\n",
       "      <th>2</th>\n",
       "      <td>2</td>\n",
       "      <td>0.504084</td>\n",
       "      <td>1.10323</td>\n",
       "      <td>89.0718</td>\n",
       "    </tr>\n",
       "    <tr>\n",
       "      <th>3</th>\n",
       "      <td>3</td>\n",
       "      <td>0.667718</td>\n",
       "      <td>1.1108</td>\n",
       "      <td>89.0718</td>\n",
       "    </tr>\n",
       "    <tr>\n",
       "      <th>4</th>\n",
       "      <td>4</td>\n",
       "      <td>0.675383</td>\n",
       "      <td>1.05258</td>\n",
       "      <td>88.9159</td>\n",
       "    </tr>\n",
       "    <tr>\n",
       "      <th>5</th>\n",
       "      <td>5</td>\n",
       "      <td>0.477125</td>\n",
       "      <td>0.992429</td>\n",
       "      <td>88.9983</td>\n",
       "    </tr>\n",
       "    <tr>\n",
       "      <th>6</th>\n",
       "      <td>6</td>\n",
       "      <td>0.194089</td>\n",
       "      <td>0.980504</td>\n",
       "      <td>89.2368</td>\n",
       "    </tr>\n",
       "    <tr>\n",
       "      <th>7</th>\n",
       "      <td>7</td>\n",
       "      <td>0.171188</td>\n",
       "      <td>0.999304</td>\n",
       "      <td>89.0169</td>\n",
       "    </tr>\n",
       "    <tr>\n",
       "      <th>8</th>\n",
       "      <td>8</td>\n",
       "      <td>0.412254</td>\n",
       "      <td>1.03696</td>\n",
       "      <td>88.8856</td>\n",
       "    </tr>\n",
       "    <tr>\n",
       "      <th>9</th>\n",
       "      <td>9</td>\n",
       "      <td>0.547861</td>\n",
       "      <td>1.04409</td>\n",
       "      <td>88.7838</td>\n",
       "    </tr>\n",
       "  </tbody>\n",
       "</table>\n",
       "</div>"
      ],
      "text/plain": [
       "   index   sumGyro    sumAcc   sumMag\n",
       "0      0  0.727668   1.05383  88.9395\n",
       "1      1   0.32408   1.07085  88.9755\n",
       "2      2  0.504084   1.10323  89.0718\n",
       "3      3  0.667718    1.1108  89.0718\n",
       "4      4  0.675383   1.05258  88.9159\n",
       "5      5  0.477125  0.992429  88.9983\n",
       "6      6  0.194089  0.980504  89.2368\n",
       "7      7  0.171188  0.999304  89.0169\n",
       "8      8  0.412254   1.03696  88.8856\n",
       "9      9  0.547861   1.04409  88.7838"
      ]
     },
     "execution_count": 24,
     "metadata": {},
     "output_type": "execute_result"
    }
   ],
   "source": [
    "#separate 20ft csv 0 to 516 and 544 and to the last\n",
    "first_half_20ft = (final_twenty_df.loc[0:515,:])\n",
    "first_half_20ft.head(10)"
   ]
  },
  {
   "cell_type": "code",
   "execution_count": 25,
   "metadata": {},
   "outputs": [
    {
     "data": {
      "text/html": [
       "<div>\n",
       "<style scoped>\n",
       "    .dataframe tbody tr th:only-of-type {\n",
       "        vertical-align: middle;\n",
       "    }\n",
       "\n",
       "    .dataframe tbody tr th {\n",
       "        vertical-align: top;\n",
       "    }\n",
       "\n",
       "    .dataframe thead th {\n",
       "        text-align: right;\n",
       "    }\n",
       "</style>\n",
       "<table border=\"1\" class=\"dataframe\">\n",
       "  <thead>\n",
       "    <tr style=\"text-align: right;\">\n",
       "      <th></th>\n",
       "      <th>index</th>\n",
       "      <th>sumGyro</th>\n",
       "      <th>sumAcc</th>\n",
       "      <th>sumMag</th>\n",
       "    </tr>\n",
       "  </thead>\n",
       "  <tbody>\n",
       "    <tr>\n",
       "      <th>1060</th>\n",
       "      <td>1060</td>\n",
       "      <td>0.672305</td>\n",
       "      <td>1.0265</td>\n",
       "      <td>78.4131</td>\n",
       "    </tr>\n",
       "    <tr>\n",
       "      <th>1061</th>\n",
       "      <td>1061</td>\n",
       "      <td>0.833723</td>\n",
       "      <td>0.970334</td>\n",
       "      <td>78.6436</td>\n",
       "    </tr>\n",
       "    <tr>\n",
       "      <th>1062</th>\n",
       "      <td>1062</td>\n",
       "      <td>0.896245</td>\n",
       "      <td>0.938496</td>\n",
       "      <td>78.5835</td>\n",
       "    </tr>\n",
       "    <tr>\n",
       "      <th>1063</th>\n",
       "      <td>1063</td>\n",
       "      <td>0.736482</td>\n",
       "      <td>0.915006</td>\n",
       "      <td>78.5835</td>\n",
       "    </tr>\n",
       "    <tr>\n",
       "      <th>1064</th>\n",
       "      <td>1064</td>\n",
       "      <td>0.229587</td>\n",
       "      <td>0.942755</td>\n",
       "      <td>78.6045</td>\n",
       "    </tr>\n",
       "    <tr>\n",
       "      <th>1065</th>\n",
       "      <td>1065</td>\n",
       "      <td>0.24039</td>\n",
       "      <td>0.968181</td>\n",
       "      <td>78.8345</td>\n",
       "    </tr>\n",
       "    <tr>\n",
       "      <th>1066</th>\n",
       "      <td>1066</td>\n",
       "      <td>0.440752</td>\n",
       "      <td>0.95493</td>\n",
       "      <td>78.6725</td>\n",
       "    </tr>\n",
       "    <tr>\n",
       "      <th>1067</th>\n",
       "      <td>1067</td>\n",
       "      <td>0.530413</td>\n",
       "      <td>0.948717</td>\n",
       "      <td>78.6864</td>\n",
       "    </tr>\n",
       "    <tr>\n",
       "      <th>1068</th>\n",
       "      <td>1068</td>\n",
       "      <td>0.729575</td>\n",
       "      <td>1.17244</td>\n",
       "      <td>79.0238</td>\n",
       "    </tr>\n",
       "    <tr>\n",
       "      <th>1069</th>\n",
       "      <td>1069</td>\n",
       "      <td>0.729575</td>\n",
       "      <td>1.17244</td>\n",
       "      <td>79.1971</td>\n",
       "    </tr>\n",
       "  </tbody>\n",
       "</table>\n",
       "</div>"
      ],
      "text/plain": [
       "      index   sumGyro    sumAcc   sumMag\n",
       "1060   1060  0.672305    1.0265  78.4131\n",
       "1061   1061  0.833723  0.970334  78.6436\n",
       "1062   1062  0.896245  0.938496  78.5835\n",
       "1063   1063  0.736482  0.915006  78.5835\n",
       "1064   1064  0.229587  0.942755  78.6045\n",
       "1065   1065   0.24039  0.968181  78.8345\n",
       "1066   1066  0.440752   0.95493  78.6725\n",
       "1067   1067  0.530413  0.948717  78.6864\n",
       "1068   1068  0.729575   1.17244  79.0238\n",
       "1069   1069  0.729575   1.17244  79.1971"
      ]
     },
     "execution_count": 25,
     "metadata": {},
     "output_type": "execute_result"
    }
   ],
   "source": [
    "# final__twenty_df.shape\n",
    "second_half_20ft = (final_twenty_df.loc[543:1069,:])\n",
    "second_half_20ft.tail(10)"
   ]
  },
  {
   "cell_type": "code",
   "execution_count": 26,
   "metadata": {},
   "outputs": [
    {
     "name": "stdout",
     "output_type": "stream",
     "text": [
      "First 20ft data\n",
      "Sum of all rows of sumGyro: 258.2479907594758\n",
      "Sum of all rows of sumAcc: 530.4975788983448\n",
      "Sum of all rows of sumMag: 43841.87219182766\n",
      "Second 20ft data\n",
      "Sum of all rows of sumGyro: 331.0944592557048\n",
      "Sum of all rows of sumAcc: 539.7034476295687\n",
      "Sum of all rows of sumMag: 42394.18012406474\n"
     ]
    }
   ],
   "source": [
    "# take position vector of first_half_10ft and second_half_10ft and find the difference\n",
    "print('First 20ft data')\n",
    "print('Sum of all rows of sumGyro: ' + str(first_half_20ft['sumGyro'].sum()))\n",
    "print('Sum of all rows of sumAcc: ' + str(first_half_20ft['sumAcc'].sum()))\n",
    "print('Sum of all rows of sumMag: ' + str(first_half_20ft['sumMag'].sum()))\n",
    "\n",
    "total_20ft_SumGyro = first_half_20ft['sumGyro'].sum()\n",
    "total_20ft_SumAcc = first_half_20ft['sumAcc'].sum()\n",
    "total_20ft_SumMag = first_half_20ft['sumMag'].sum()\n",
    "\n",
    "print('Second 20ft data')\n",
    "print('Sum of all rows of sumGyro: ' + str(second_half_20ft['sumGyro'].sum()))\n",
    "print('Sum of all rows of sumAcc: ' + str(second_half_20ft['sumAcc'].sum()))\n",
    "print('Sum of all rows of sumMag: ' + str(second_half_20ft['sumMag'].sum()))\n",
    "\n",
    "total_20ft_SumGyro2 = second_half_20ft['sumGyro'].sum()\n",
    "total_20ft_SumAcc2 = second_half_20ft['sumAcc'].sum()\n",
    "total_20ft_SumMag2 = second_half_20ft['sumMag'].sum()"
   ]
  },
  {
   "cell_type": "code",
   "execution_count": 27,
   "metadata": {},
   "outputs": [
    {
     "name": "stdout",
     "output_type": "stream",
     "text": [
      "Percent Error of 20ft Gyro: -72.84646849622902\n"
     ]
    }
   ],
   "source": [
    "twenty_feet_error_diff_gyro = (total_20ft_SumGyro - total_20ft_SumGyro2)\n",
    "print('Percent Error of 20ft Gyro: ' + str(twenty_feet_error_diff_gyro))"
   ]
  },
  {
   "cell_type": "code",
   "execution_count": 28,
   "metadata": {},
   "outputs": [
    {
     "name": "stdout",
     "output_type": "stream",
     "text": [
      "Percent Error of 20ft Acc: -9.205868731223859\n"
     ]
    }
   ],
   "source": [
    "twenty_feet_error_diff_acc = (total_20ft_SumAcc - total_20ft_SumAcc2)\n",
    "print('Percent Error of 20ft Acc: ' + str(twenty_feet_error_diff_acc))"
   ]
  },
  {
   "cell_type": "code",
   "execution_count": 29,
   "metadata": {},
   "outputs": [
    {
     "name": "stdout",
     "output_type": "stream",
     "text": [
      "Percent Error of 20ft Mag: 1447.6920677629168\n"
     ]
    }
   ],
   "source": [
    "twenty_feet_error_diff_mag = (total_20ft_SumMag - total_20ft_SumMag2)\n",
    "print('Percent Error of 20ft Mag: ' + str(twenty_feet_error_diff_mag))"
   ]
  },
  {
   "cell_type": "markdown",
   "metadata": {},
   "source": [
    "## Analyzing 30ft data"
   ]
  },
  {
   "cell_type": "code",
   "execution_count": 30,
   "metadata": {},
   "outputs": [
    {
     "name": "stdout",
     "output_type": "stream",
     "text": [
      "             index\n",
      "count  1070.000000\n",
      "mean    534.500000\n",
      "std     309.026698\n",
      "min       0.000000\n",
      "25%     267.250000\n",
      "50%     534.500000\n",
      "75%     801.750000\n",
      "max    1069.000000\n",
      "     index  sumGyro    sumAcc   sumMag\n",
      "517    517  3.78233  0.911851  79.9011\n",
      "     index  sumGyro   sumAcc   sumMag\n",
      "543    543  2.42654  1.00664  74.1042\n"
     ]
    }
   ],
   "source": [
    "print (final_thirty_df.describe())\n",
    "print (final_thirty_df[final_thirty_df['sumGyro']==final_thirty_df['sumGyro'].max()])\n",
    "print (final_thirty_df[final_thirty_df['sumMag']==final_thirty_df['sumMag'].min()])"
   ]
  },
  {
   "cell_type": "markdown",
   "metadata": {},
   "source": [
    "## Analyzing 40ft data"
   ]
  },
  {
   "cell_type": "code",
   "execution_count": 34,
   "metadata": {},
   "outputs": [
    {
     "name": "stdout",
     "output_type": "stream",
     "text": [
      "            sumGyro       sumAcc       sumMag\n",
      "count   1380.000000  1380.000000  1380.000000\n",
      "unique  1218.000000  1218.000000  1149.000000\n",
      "top        0.444859     0.976882    85.556681\n",
      "freq       3.000000     3.000000     3.000000\n",
      "     sumGyro   sumAcc   sumMag\n",
      "667  3.82458  1.06516  76.3488\n",
      "     sumGyro   sumAcc   sumMag\n",
      "670  3.41366  1.01125  75.9316\n"
     ]
    }
   ],
   "source": [
    "print (final_forty_df.describe())\n",
    "print (final_forty_df[final_forty_df['sumGyro']==final_forty_df['sumGyro'].max()])\n",
    "print (final_forty_df[final_forty_df['sumMag']==final_forty_df['sumMag'].min()])"
   ]
  },
  {
   "cell_type": "code",
   "execution_count": 44,
   "metadata": {},
   "outputs": [
    {
     "data": {
      "text/plain": [
       "(1380, 3)"
      ]
     },
     "execution_count": 44,
     "metadata": {},
     "output_type": "execute_result"
    }
   ],
   "source": [
    "first_half_30ft = (final_thirty_df.loc[0:666,:])\n",
    "# first_half_30ft.head(10)\n",
    "final_forty_df.shape"
   ]
  },
  {
   "cell_type": "code",
   "execution_count": 53,
   "metadata": {},
   "outputs": [
    {
     "data": {
      "text/html": [
       "<div>\n",
       "<style scoped>\n",
       "    .dataframe tbody tr th:only-of-type {\n",
       "        vertical-align: middle;\n",
       "    }\n",
       "\n",
       "    .dataframe tbody tr th {\n",
       "        vertical-align: top;\n",
       "    }\n",
       "\n",
       "    .dataframe thead th {\n",
       "        text-align: right;\n",
       "    }\n",
       "</style>\n",
       "<table border=\"1\" class=\"dataframe\">\n",
       "  <thead>\n",
       "    <tr style=\"text-align: right;\">\n",
       "      <th></th>\n",
       "      <th>sumGyro</th>\n",
       "      <th>sumAcc</th>\n",
       "      <th>sumMag</th>\n",
       "    </tr>\n",
       "  </thead>\n",
       "  <tbody>\n",
       "    <tr>\n",
       "      <th>671</th>\n",
       "      <td>0.247359</td>\n",
       "      <td>0.951542</td>\n",
       "      <td>82.8727</td>\n",
       "    </tr>\n",
       "    <tr>\n",
       "      <th>672</th>\n",
       "      <td>0.247359</td>\n",
       "      <td>0.951542</td>\n",
       "      <td>82.7955</td>\n",
       "    </tr>\n",
       "    <tr>\n",
       "      <th>673</th>\n",
       "      <td>0.297051</td>\n",
       "      <td>0.896881</td>\n",
       "      <td>82.7955</td>\n",
       "    </tr>\n",
       "    <tr>\n",
       "      <th>674</th>\n",
       "      <td>0.321571</td>\n",
       "      <td>0.883103</td>\n",
       "      <td>82.9777</td>\n",
       "    </tr>\n",
       "    <tr>\n",
       "      <th>675</th>\n",
       "      <td>0.321571</td>\n",
       "      <td>0.883103</td>\n",
       "      <td>83.2425</td>\n",
       "    </tr>\n",
       "    <tr>\n",
       "      <th>676</th>\n",
       "      <td>0.251415</td>\n",
       "      <td>0.839611</td>\n",
       "      <td>83.574</td>\n",
       "    </tr>\n",
       "    <tr>\n",
       "      <th>677</th>\n",
       "      <td>0.235179</td>\n",
       "      <td>0.851266</td>\n",
       "      <td>83.7174</td>\n",
       "    </tr>\n",
       "    <tr>\n",
       "      <th>678</th>\n",
       "      <td>0.235179</td>\n",
       "      <td>0.851266</td>\n",
       "      <td>83.5444</td>\n",
       "    </tr>\n",
       "    <tr>\n",
       "      <th>679</th>\n",
       "      <td>0.40385</td>\n",
       "      <td>0.8439</td>\n",
       "      <td>83.5444</td>\n",
       "    </tr>\n",
       "    <tr>\n",
       "      <th>680</th>\n",
       "      <td>0.440527</td>\n",
       "      <td>0.777342</td>\n",
       "      <td>83.549</td>\n",
       "    </tr>\n",
       "  </tbody>\n",
       "</table>\n",
       "</div>"
      ],
      "text/plain": [
       "      sumGyro    sumAcc   sumMag\n",
       "671  0.247359  0.951542  82.8727\n",
       "672  0.247359  0.951542  82.7955\n",
       "673  0.297051  0.896881  82.7955\n",
       "674  0.321571  0.883103  82.9777\n",
       "675  0.321571  0.883103  83.2425\n",
       "676  0.251415  0.839611   83.574\n",
       "677  0.235179  0.851266  83.7174\n",
       "678  0.235179  0.851266  83.5444\n",
       "679   0.40385    0.8439  83.5444\n",
       "680  0.440527  0.777342   83.549"
      ]
     },
     "execution_count": 53,
     "metadata": {},
     "output_type": "execute_result"
    }
   ],
   "source": [
    "second_half_30ft = (final_thirty_df.loc[671:1380,:])\n",
    "second_half_30ft.head(10)"
   ]
  },
  {
   "cell_type": "code",
   "execution_count": 54,
   "metadata": {},
   "outputs": [
    {
     "name": "stdout",
     "output_type": "stream",
     "text": [
      "First 30ft data\n",
      "Sum of all rows of sumGyro: 239.2466245572421\n",
      "Sum of all rows of sumAcc: 408.5110148369112\n",
      "Sum of all rows of sumMag: 32368.214114282597\n",
      "Second 30ft data\n",
      "Sum of all rows of sumGyro: 239.04189972255568\n",
      "Sum of all rows of sumAcc: 407.2713992426962\n",
      "Sum of all rows of sumMag: 32285.641622774823\n"
     ]
    }
   ],
   "source": [
    "# take position vector of first_half_10ft and second_half_10ft and find the difference\n",
    "print('First 30ft data')\n",
    "print('Sum of all rows of sumGyro: ' + str(first_half_30ft['sumGyro'].sum()))\n",
    "print('Sum of all rows of sumAcc: ' + str(first_half_30ft['sumAcc'].sum()))\n",
    "print('Sum of all rows of sumMag: ' + str(first_half_30ft['sumMag'].sum()))\n",
    "\n",
    "total_30ft_SumGyro = first_half_30ft['sumGyro'].sum()\n",
    "total_30ft_SumAcc = first_half_30ft['sumAcc'].sum()\n",
    "total_30ft_SumMag = first_half_30ft['sumMag'].sum()\n",
    "\n",
    "print('Second 30ft data')\n",
    "print('Sum of all rows of sumGyro: ' + str(second_half_30ft['sumGyro'].sum()))\n",
    "print('Sum of all rows of sumAcc: ' + str(second_half_30ft['sumAcc'].sum()))\n",
    "print('Sum of all rows of sumMag: ' + str(second_half_30ft['sumMag'].sum()))\n",
    "\n",
    "total_30ft_SumGyro2 = second_half_30ft['sumGyro'].sum()\n",
    "total_30ft_SumAcc2 = second_half_30ft['sumAcc'].sum()\n",
    "total_30ft_SumMag2 = second_half_30ft['sumMag'].sum()"
   ]
  },
  {
   "cell_type": "code",
   "execution_count": 55,
   "metadata": {},
   "outputs": [
    {
     "name": "stdout",
     "output_type": "stream",
     "text": [
      "Percent Error of 30ft Gyro: 0.20472483468640235\n"
     ]
    }
   ],
   "source": [
    "thirty_feet_error_diff_gyro = (total_30ft_SumGyro - total_30ft_SumGyro2)\n",
    "print('Percent Error of 30ft Gyro: ' + str(thirty_feet_error_diff_gyro))"
   ]
  },
  {
   "cell_type": "code",
   "execution_count": 57,
   "metadata": {},
   "outputs": [
    {
     "name": "stdout",
     "output_type": "stream",
     "text": [
      "Percent Error of 30ft Acc: 1.2396155942150244\n"
     ]
    }
   ],
   "source": [
    "thirty_feet_error_diff_acc = (total_30ft_SumAcc - total_30ft_SumAcc2)\n",
    "print('Percent Error of 30ft Acc: ' + str(thirty_feet_error_diff_acc))"
   ]
  },
  {
   "cell_type": "code",
   "execution_count": 58,
   "metadata": {},
   "outputs": [
    {
     "name": "stdout",
     "output_type": "stream",
     "text": [
      "Percent Error of 30ft Mag: 82.57249150777352\n"
     ]
    }
   ],
   "source": [
    "thirty_feet_error_diff_mag = (total_30ft_SumMag - total_30ft_SumMag2)\n",
    "print('Percent Error of 30ft Mag: ' + str(thirty_feet_error_diff_mag))"
   ]
  },
  {
   "cell_type": "markdown",
   "metadata": {},
   "source": [
    "## Analyzing 50ft data"
   ]
  },
  {
   "cell_type": "code",
   "execution_count": 61,
   "metadata": {},
   "outputs": [
    {
     "name": "stdout",
     "output_type": "stream",
     "text": [
      "          sumGyro       sumAcc       sumMag\n",
      "count   1947.0000  1947.000000  1947.000000\n",
      "unique  1708.0000  1705.000000  1617.000000\n",
      "top        0.8641     0.951515    88.260263\n",
      "freq       3.0000     3.000000     3.000000\n",
      "      sumGyro   sumAcc   sumMag\n",
      "1239  3.05443  0.91007  80.9705\n",
      "       sumGyro   sumAcc   sumMag\n",
      "1867  0.835374  0.95862  64.7322\n",
      "1868  0.990609  1.00214  64.7322\n"
     ]
    }
   ],
   "source": [
    "print (final_fifty_df.describe())\n",
    "print (final_fifty_df[final_fifty_df['sumGyro']==final_fifty_df['sumGyro'].max()])\n",
    "print (final_fifty_df[final_fifty_df['sumMag']==final_fifty_df['sumMag'].min()])"
   ]
  },
  {
   "cell_type": "code",
   "execution_count": 75,
   "metadata": {},
   "outputs": [
    {
     "data": {
      "text/html": [
       "<div>\n",
       "<style scoped>\n",
       "    .dataframe tbody tr th:only-of-type {\n",
       "        vertical-align: middle;\n",
       "    }\n",
       "\n",
       "    .dataframe tbody tr th {\n",
       "        vertical-align: top;\n",
       "    }\n",
       "\n",
       "    .dataframe thead th {\n",
       "        text-align: right;\n",
       "    }\n",
       "</style>\n",
       "<table border=\"1\" class=\"dataframe\">\n",
       "  <thead>\n",
       "    <tr style=\"text-align: right;\">\n",
       "      <th></th>\n",
       "      <th>sumGyro</th>\n",
       "      <th>sumAcc</th>\n",
       "      <th>sumMag</th>\n",
       "    </tr>\n",
       "  </thead>\n",
       "  <tbody>\n",
       "    <tr>\n",
       "      <th>1229</th>\n",
       "      <td>0.873351</td>\n",
       "      <td>0.875517</td>\n",
       "      <td>80.3432</td>\n",
       "    </tr>\n",
       "    <tr>\n",
       "      <th>1230</th>\n",
       "      <td>0.23588</td>\n",
       "      <td>0.813674</td>\n",
       "      <td>80.3432</td>\n",
       "    </tr>\n",
       "    <tr>\n",
       "      <th>1231</th>\n",
       "      <td>1.36483</td>\n",
       "      <td>0.835706</td>\n",
       "      <td>80.7869</td>\n",
       "    </tr>\n",
       "    <tr>\n",
       "      <th>1232</th>\n",
       "      <td>1.81809</td>\n",
       "      <td>1.02218</td>\n",
       "      <td>80.902</td>\n",
       "    </tr>\n",
       "    <tr>\n",
       "      <th>1233</th>\n",
       "      <td>1.5358</td>\n",
       "      <td>1.24239</td>\n",
       "      <td>80.8012</td>\n",
       "    </tr>\n",
       "    <tr>\n",
       "      <th>1234</th>\n",
       "      <td>0.901361</td>\n",
       "      <td>1.33492</td>\n",
       "      <td>80.9996</td>\n",
       "    </tr>\n",
       "    <tr>\n",
       "      <th>1235</th>\n",
       "      <td>0.577657</td>\n",
       "      <td>1.29498</td>\n",
       "      <td>80.538</td>\n",
       "    </tr>\n",
       "    <tr>\n",
       "      <th>1236</th>\n",
       "      <td>0.577657</td>\n",
       "      <td>1.29498</td>\n",
       "      <td>80.7453</td>\n",
       "    </tr>\n",
       "    <tr>\n",
       "      <th>1237</th>\n",
       "      <td>1.91076</td>\n",
       "      <td>1.15933</td>\n",
       "      <td>80.7453</td>\n",
       "    </tr>\n",
       "    <tr>\n",
       "      <th>1238</th>\n",
       "      <td>1.91076</td>\n",
       "      <td>1.15933</td>\n",
       "      <td>80.8209</td>\n",
       "    </tr>\n",
       "  </tbody>\n",
       "</table>\n",
       "</div>"
      ],
      "text/plain": [
       "       sumGyro    sumAcc   sumMag\n",
       "1229  0.873351  0.875517  80.3432\n",
       "1230   0.23588  0.813674  80.3432\n",
       "1231   1.36483  0.835706  80.7869\n",
       "1232   1.81809   1.02218   80.902\n",
       "1233    1.5358   1.24239  80.8012\n",
       "1234  0.901361   1.33492  80.9996\n",
       "1235  0.577657   1.29498   80.538\n",
       "1236  0.577657   1.29498  80.7453\n",
       "1237   1.91076   1.15933  80.7453\n",
       "1238   1.91076   1.15933  80.8209"
      ]
     },
     "execution_count": 75,
     "metadata": {},
     "output_type": "execute_result"
    }
   ],
   "source": [
    "first_half_50ft = (final_fifty_df.loc[0:1238,:])\n",
    "first_half_50ft.tail(10)\n",
    "# final_fifty_df.shape"
   ]
  },
  {
   "cell_type": "code",
   "execution_count": 76,
   "metadata": {},
   "outputs": [
    {
     "data": {
      "text/html": [
       "<div>\n",
       "<style scoped>\n",
       "    .dataframe tbody tr th:only-of-type {\n",
       "        vertical-align: middle;\n",
       "    }\n",
       "\n",
       "    .dataframe tbody tr th {\n",
       "        vertical-align: top;\n",
       "    }\n",
       "\n",
       "    .dataframe thead th {\n",
       "        text-align: right;\n",
       "    }\n",
       "</style>\n",
       "<table border=\"1\" class=\"dataframe\">\n",
       "  <thead>\n",
       "    <tr style=\"text-align: right;\">\n",
       "      <th></th>\n",
       "      <th>sumGyro</th>\n",
       "      <th>sumAcc</th>\n",
       "      <th>sumMag</th>\n",
       "    </tr>\n",
       "  </thead>\n",
       "  <tbody>\n",
       "    <tr>\n",
       "      <th>1869</th>\n",
       "      <td>0.983632</td>\n",
       "      <td>1.13398</td>\n",
       "      <td>65.0268</td>\n",
       "    </tr>\n",
       "    <tr>\n",
       "      <th>1870</th>\n",
       "      <td>0.680632</td>\n",
       "      <td>1.26435</td>\n",
       "      <td>65.3215</td>\n",
       "    </tr>\n",
       "    <tr>\n",
       "      <th>1871</th>\n",
       "      <td>0.338784</td>\n",
       "      <td>1.29597</td>\n",
       "      <td>65.6142</td>\n",
       "    </tr>\n",
       "    <tr>\n",
       "      <th>1872</th>\n",
       "      <td>0.265694</td>\n",
       "      <td>1.14979</td>\n",
       "      <td>66.0243</td>\n",
       "    </tr>\n",
       "    <tr>\n",
       "      <th>1873</th>\n",
       "      <td>0.266451</td>\n",
       "      <td>1.11085</td>\n",
       "      <td>65.9457</td>\n",
       "    </tr>\n",
       "    <tr>\n",
       "      <th>1874</th>\n",
       "      <td>0.250517</td>\n",
       "      <td>1.13606</td>\n",
       "      <td>65.9457</td>\n",
       "    </tr>\n",
       "    <tr>\n",
       "      <th>1875</th>\n",
       "      <td>0.191904</td>\n",
       "      <td>1.13123</td>\n",
       "      <td>66.1069</td>\n",
       "    </tr>\n",
       "    <tr>\n",
       "      <th>1876</th>\n",
       "      <td>0.113936</td>\n",
       "      <td>1.0846</td>\n",
       "      <td>65.942</td>\n",
       "    </tr>\n",
       "    <tr>\n",
       "      <th>1877</th>\n",
       "      <td>0.123308</td>\n",
       "      <td>0.991913</td>\n",
       "      <td>65.7848</td>\n",
       "    </tr>\n",
       "    <tr>\n",
       "      <th>1878</th>\n",
       "      <td>0.240352</td>\n",
       "      <td>0.928793</td>\n",
       "      <td>66.5357</td>\n",
       "    </tr>\n",
       "  </tbody>\n",
       "</table>\n",
       "</div>"
      ],
      "text/plain": [
       "       sumGyro    sumAcc   sumMag\n",
       "1869  0.983632   1.13398  65.0268\n",
       "1870  0.680632   1.26435  65.3215\n",
       "1871  0.338784   1.29597  65.6142\n",
       "1872  0.265694   1.14979  66.0243\n",
       "1873  0.266451   1.11085  65.9457\n",
       "1874  0.250517   1.13606  65.9457\n",
       "1875  0.191904   1.13123  66.1069\n",
       "1876  0.113936    1.0846   65.942\n",
       "1877  0.123308  0.991913  65.7848\n",
       "1878  0.240352  0.928793  66.5357"
      ]
     },
     "execution_count": 76,
     "metadata": {},
     "output_type": "execute_result"
    }
   ],
   "source": [
    "second_half_50ft = (final_fifty_df.loc[1869:1947,:])\n",
    "second_half_50ft.head(10)"
   ]
  },
  {
   "cell_type": "code",
   "execution_count": 77,
   "metadata": {},
   "outputs": [
    {
     "name": "stdout",
     "output_type": "stream",
     "text": [
      "First 50ft data\n",
      "Sum of all rows of sumGyro: 674.4063791291676\n",
      "Sum of all rows of sumAcc: 1269.0167032846055\n",
      "Sum of all rows of sumMag: 105281.98123941712\n",
      "Second 50ft data\n",
      "Sum of all rows of sumGyro: 31.324422443808846\n",
      "Sum of all rows of sumAcc: 80.68498898468486\n",
      "Sum of all rows of sumMag: 5289.966873706891\n"
     ]
    }
   ],
   "source": [
    "# take position vector of first_half_10ft and second_half_10ft and find the difference\n",
    "print('First 50ft data')\n",
    "print('Sum of all rows of sumGyro: ' + str(first_half_50ft['sumGyro'].sum()))\n",
    "print('Sum of all rows of sumAcc: ' + str(first_half_50ft['sumAcc'].sum()))\n",
    "print('Sum of all rows of sumMag: ' + str(first_half_50ft['sumMag'].sum()))\n",
    "\n",
    "total_50ft_SumGyro = first_half_50ft['sumGyro'].sum()\n",
    "total_50ft_SumAcc = first_half_50ft['sumAcc'].sum()\n",
    "total_50ft_SumMag = first_half_50ft['sumMag'].sum()\n",
    "\n",
    "print('Second 50ft data')\n",
    "print('Sum of all rows of sumGyro: ' + str(second_half_50ft['sumGyro'].sum()))\n",
    "print('Sum of all rows of sumAcc: ' + str(second_half_50ft['sumAcc'].sum()))\n",
    "print('Sum of all rows of sumMag: ' + str(second_half_50ft['sumMag'].sum()))\n",
    "\n",
    "total_50ft_SumGyro2 = second_half_50ft['sumGyro'].sum()\n",
    "total_50ft_SumAcc2 = second_half_50ft['sumAcc'].sum()\n",
    "total_50ft_SumMag2 = second_half_50ft['sumMag'].sum()"
   ]
  },
  {
   "cell_type": "code",
   "execution_count": 88,
   "metadata": {},
   "outputs": [
    {
     "name": "stdout",
     "output_type": "stream",
     "text": [
      "Percent Error of 50ft Gyro: 643.0819566853587\n"
     ]
    }
   ],
   "source": [
    "fifty_feet_error_diff_gyro = (total_50ft_SumGyro - total_50ft_SumGyro2)\n",
    "print('Percent Error of 50ft Gyro: ' + str(fifty_feet_error_diff_gyro))"
   ]
  },
  {
   "cell_type": "code",
   "execution_count": 79,
   "metadata": {},
   "outputs": [
    {
     "name": "stdout",
     "output_type": "stream",
     "text": [
      "Percent Error of 50ft Acc: 1188.3317142999206\n"
     ]
    }
   ],
   "source": [
    "fifty_feet_error_diff_acc = (total_50ft_SumAcc - total_50ft_SumAcc2)\n",
    "print('Percent Error of 50ft Acc: ' + str(fifty_feet_error_diff_acc))"
   ]
  },
  {
   "cell_type": "code",
   "execution_count": 80,
   "metadata": {},
   "outputs": [
    {
     "name": "stdout",
     "output_type": "stream",
     "text": [
      "Percent Error of 50ft Mag: 99992.01436571023\n"
     ]
    }
   ],
   "source": [
    "fifty_feet_error_diff_mag = (total_50ft_SumMag - total_50ft_SumMag2)\n",
    "print('Percent Error of 50ft Mag: ' + str(fifty_feet_error_diff_mag))"
   ]
  },
  {
   "cell_type": "markdown",
   "metadata": {},
   "source": [
    "## Analyzing 60ft data"
   ]
  },
  {
   "cell_type": "code",
   "execution_count": 81,
   "metadata": {},
   "outputs": [
    {
     "name": "stdout",
     "output_type": "stream",
     "text": [
      "            sumGyro       sumAcc       sumMag\n",
      "count   1655.000000  1655.000000  1655.000000\n",
      "unique  1457.000000  1461.000000  1373.000000\n",
      "top        0.342875     0.879558    85.888582\n",
      "freq       3.000000     2.000000     2.000000\n",
      "     sumGyro   sumAcc   sumMag\n",
      "788  3.45343  1.10506  95.6745\n",
      "      sumGyro  sumAcc   sumMag\n",
      "1095  0.49753  1.2774  75.0693\n"
     ]
    }
   ],
   "source": [
    "print (final_sixty_df.describe())\n",
    "print (final_sixty_df[final_sixty_df['sumGyro']==final_sixty_df['sumGyro'].max()])\n",
    "print (final_sixty_df[final_sixty_df['sumMag']==final_sixty_df['sumMag'].min()])"
   ]
  },
  {
   "cell_type": "code",
   "execution_count": 91,
   "metadata": {},
   "outputs": [
    {
     "data": {
      "text/html": [
       "<div>\n",
       "<style scoped>\n",
       "    .dataframe tbody tr th:only-of-type {\n",
       "        vertical-align: middle;\n",
       "    }\n",
       "\n",
       "    .dataframe tbody tr th {\n",
       "        vertical-align: top;\n",
       "    }\n",
       "\n",
       "    .dataframe thead th {\n",
       "        text-align: right;\n",
       "    }\n",
       "</style>\n",
       "<table border=\"1\" class=\"dataframe\">\n",
       "  <thead>\n",
       "    <tr style=\"text-align: right;\">\n",
       "      <th></th>\n",
       "      <th>sumGyro</th>\n",
       "      <th>sumAcc</th>\n",
       "      <th>sumMag</th>\n",
       "    </tr>\n",
       "  </thead>\n",
       "  <tbody>\n",
       "    <tr>\n",
       "      <th>778</th>\n",
       "      <td>3.02256</td>\n",
       "      <td>1.02859</td>\n",
       "      <td>98.5718</td>\n",
       "    </tr>\n",
       "    <tr>\n",
       "      <th>779</th>\n",
       "      <td>3.10932</td>\n",
       "      <td>1.0448</td>\n",
       "      <td>98.3315</td>\n",
       "    </tr>\n",
       "    <tr>\n",
       "      <th>780</th>\n",
       "      <td>3.19935</td>\n",
       "      <td>1.07726</td>\n",
       "      <td>96.4662</td>\n",
       "    </tr>\n",
       "    <tr>\n",
       "      <th>781</th>\n",
       "      <td>3.25763</td>\n",
       "      <td>1.11751</td>\n",
       "      <td>96.4662</td>\n",
       "    </tr>\n",
       "    <tr>\n",
       "      <th>782</th>\n",
       "      <td>3.23591</td>\n",
       "      <td>1.16861</td>\n",
       "      <td>96.2668</td>\n",
       "    </tr>\n",
       "    <tr>\n",
       "      <th>783</th>\n",
       "      <td>3.22567</td>\n",
       "      <td>1.16284</td>\n",
       "      <td>96.9143</td>\n",
       "    </tr>\n",
       "    <tr>\n",
       "      <th>784</th>\n",
       "      <td>3.28518</td>\n",
       "      <td>1.09261</td>\n",
       "      <td>98.1168</td>\n",
       "    </tr>\n",
       "    <tr>\n",
       "      <th>785</th>\n",
       "      <td>3.35604</td>\n",
       "      <td>1.06416</td>\n",
       "      <td>97.8946</td>\n",
       "    </tr>\n",
       "    <tr>\n",
       "      <th>786</th>\n",
       "      <td>3.4047</td>\n",
       "      <td>1.07695</td>\n",
       "      <td>96.7286</td>\n",
       "    </tr>\n",
       "    <tr>\n",
       "      <th>787</th>\n",
       "      <td>3.44648</td>\n",
       "      <td>1.09423</td>\n",
       "      <td>96.7286</td>\n",
       "    </tr>\n",
       "  </tbody>\n",
       "</table>\n",
       "</div>"
      ],
      "text/plain": [
       "     sumGyro   sumAcc   sumMag\n",
       "778  3.02256  1.02859  98.5718\n",
       "779  3.10932   1.0448  98.3315\n",
       "780  3.19935  1.07726  96.4662\n",
       "781  3.25763  1.11751  96.4662\n",
       "782  3.23591  1.16861  96.2668\n",
       "783  3.22567  1.16284  96.9143\n",
       "784  3.28518  1.09261  98.1168\n",
       "785  3.35604  1.06416  97.8946\n",
       "786   3.4047  1.07695  96.7286\n",
       "787  3.44648  1.09423  96.7286"
      ]
     },
     "execution_count": 91,
     "metadata": {},
     "output_type": "execute_result"
    }
   ],
   "source": [
    "first_half_60ft = (final_sixty_df.loc[0:787,:])\n",
    "first_half_60ft.tail(10)\n",
    "# final_fifty_df.shape"
   ]
  },
  {
   "cell_type": "code",
   "execution_count": 92,
   "metadata": {},
   "outputs": [
    {
     "data": {
      "text/html": [
       "<div>\n",
       "<style scoped>\n",
       "    .dataframe tbody tr th:only-of-type {\n",
       "        vertical-align: middle;\n",
       "    }\n",
       "\n",
       "    .dataframe tbody tr th {\n",
       "        vertical-align: top;\n",
       "    }\n",
       "\n",
       "    .dataframe thead th {\n",
       "        text-align: right;\n",
       "    }\n",
       "</style>\n",
       "<table border=\"1\" class=\"dataframe\">\n",
       "  <thead>\n",
       "    <tr style=\"text-align: right;\">\n",
       "      <th></th>\n",
       "      <th>sumGyro</th>\n",
       "      <th>sumAcc</th>\n",
       "      <th>sumMag</th>\n",
       "    </tr>\n",
       "  </thead>\n",
       "  <tbody>\n",
       "    <tr>\n",
       "      <th>1645</th>\n",
       "      <td>0.279794</td>\n",
       "      <td>1.06796</td>\n",
       "      <td>76.8915</td>\n",
       "    </tr>\n",
       "    <tr>\n",
       "      <th>1646</th>\n",
       "      <td>0.239174</td>\n",
       "      <td>1.00288</td>\n",
       "      <td>77.0428</td>\n",
       "    </tr>\n",
       "    <tr>\n",
       "      <th>1647</th>\n",
       "      <td>0.239174</td>\n",
       "      <td>1.00288</td>\n",
       "      <td>77.0428</td>\n",
       "    </tr>\n",
       "    <tr>\n",
       "      <th>1648</th>\n",
       "      <td>0.124765</td>\n",
       "      <td>0.980461</td>\n",
       "      <td>77.2852</td>\n",
       "    </tr>\n",
       "    <tr>\n",
       "      <th>1649</th>\n",
       "      <td>0.400113</td>\n",
       "      <td>0.911889</td>\n",
       "      <td>77.2852</td>\n",
       "    </tr>\n",
       "    <tr>\n",
       "      <th>1650</th>\n",
       "      <td>0.384707</td>\n",
       "      <td>0.960108</td>\n",
       "      <td>77.2376</td>\n",
       "    </tr>\n",
       "    <tr>\n",
       "      <th>1651</th>\n",
       "      <td>0.245741</td>\n",
       "      <td>1.11098</td>\n",
       "      <td>77.3032</td>\n",
       "    </tr>\n",
       "    <tr>\n",
       "      <th>1652</th>\n",
       "      <td>0.497627</td>\n",
       "      <td>1.07891</td>\n",
       "      <td>77.3032</td>\n",
       "    </tr>\n",
       "    <tr>\n",
       "      <th>1653</th>\n",
       "      <td>0.389487</td>\n",
       "      <td>0.97745</td>\n",
       "      <td>77.279</td>\n",
       "    </tr>\n",
       "    <tr>\n",
       "      <th>1654</th>\n",
       "      <td>0.384925</td>\n",
       "      <td>0.928995</td>\n",
       "      <td>77.4752</td>\n",
       "    </tr>\n",
       "  </tbody>\n",
       "</table>\n",
       "</div>"
      ],
      "text/plain": [
       "       sumGyro    sumAcc   sumMag\n",
       "1645  0.279794   1.06796  76.8915\n",
       "1646  0.239174   1.00288  77.0428\n",
       "1647  0.239174   1.00288  77.0428\n",
       "1648  0.124765  0.980461  77.2852\n",
       "1649  0.400113  0.911889  77.2852\n",
       "1650  0.384707  0.960108  77.2376\n",
       "1651  0.245741   1.11098  77.3032\n",
       "1652  0.497627   1.07891  77.3032\n",
       "1653  0.389487   0.97745   77.279\n",
       "1654  0.384925  0.928995  77.4752"
      ]
     },
     "execution_count": 92,
     "metadata": {},
     "output_type": "execute_result"
    }
   ],
   "source": [
    "second_half_60ft = (final_sixty_df.loc[1095:1947,:])\n",
    "second_half_60ft.tail(10)"
   ]
  },
  {
   "cell_type": "code",
   "execution_count": 93,
   "metadata": {
    "scrolled": true
   },
   "outputs": [
    {
     "name": "stdout",
     "output_type": "stream",
     "text": [
      "First 60ft data\n",
      "Sum of all rows of sumGyro: 404.74263313699674\n",
      "Sum of all rows of sumAcc: 807.8587408203116\n",
      "Sum of all rows of sumMag: 69276.6212943454\n",
      "Second 60ft data\n",
      "Sum of all rows of sumGyro: 248.24665605635164\n",
      "Sum of all rows of sumAcc: 573.0117800051671\n",
      "Sum of all rows of sumMag: 46328.566579588034\n"
     ]
    }
   ],
   "source": [
    "# take position vector of first_half_10ft and second_half_10ft and find the difference\n",
    "print('First 60ft data')\n",
    "print('Sum of all rows of sumGyro: ' + str(first_half_60ft['sumGyro'].sum()))\n",
    "print('Sum of all rows of sumAcc: ' + str(first_half_60ft['sumAcc'].sum()))\n",
    "print('Sum of all rows of sumMag: ' + str(first_half_60ft['sumMag'].sum()))\n",
    "\n",
    "total_60ft_SumGyro = first_half_60ft['sumGyro'].sum()\n",
    "total_60ft_SumAcc = first_half_60ft['sumAcc'].sum()\n",
    "total_60ft_SumMag = first_half_60ft['sumMag'].sum()\n",
    "\n",
    "print('Second 60ft data')\n",
    "print('Sum of all rows of sumGyro: ' + str(second_half_60ft['sumGyro'].sum()))\n",
    "print('Sum of all rows of sumAcc: ' + str(second_half_60ft['sumAcc'].sum()))\n",
    "print('Sum of all rows of sumMag: ' + str(second_half_60ft['sumMag'].sum()))\n",
    "\n",
    "total_60ft_SumGyro2 = second_half_60ft['sumGyro'].sum()\n",
    "total_60ft_SumAcc2 = second_half_60ft['sumAcc'].sum()\n",
    "total_60ft_SumMag2 = second_half_60ft['sumMag'].sum()"
   ]
  },
  {
   "cell_type": "code",
   "execution_count": 95,
   "metadata": {},
   "outputs": [
    {
     "name": "stdout",
     "output_type": "stream",
     "text": [
      "Percent Error of 60ft Gyro: 156.4959770806451\n"
     ]
    }
   ],
   "source": [
    "sixty_feet_error_diff_gyro = (total_60ft_SumGyro - total_60ft_SumGyro2)\n",
    "print('Percent Error of 60ft Gyro: ' + str(sixty_feet_error_diff_gyro))"
   ]
  },
  {
   "cell_type": "code",
   "execution_count": 96,
   "metadata": {},
   "outputs": [
    {
     "name": "stdout",
     "output_type": "stream",
     "text": [
      "Percent Error of 60ft Acc: 234.84696081514448\n"
     ]
    }
   ],
   "source": [
    "sixty_feet_error_diff_acc = (total_60ft_SumAcc - total_60ft_SumAcc2)\n",
    "print('Percent Error of 60ft Acc: ' + str(sixty_feet_error_diff_acc))"
   ]
  },
  {
   "cell_type": "code",
   "execution_count": 97,
   "metadata": {},
   "outputs": [
    {
     "name": "stdout",
     "output_type": "stream",
     "text": [
      "Percent Error of 60ft Mag: 22948.054714757367\n"
     ]
    }
   ],
   "source": [
    "sixty_feet_error_diff_mag = (total_60ft_SumMag - total_60ft_SumMag2)\n",
    "print('Percent Error of 60ft Mag: ' + str(sixty_feet_error_diff_mag))"
   ]
  },
  {
   "cell_type": "markdown",
   "metadata": {},
   "source": [
    "## Analyzing 70ft data"
   ]
  },
  {
   "cell_type": "code",
   "execution_count": 63,
   "metadata": {},
   "outputs": [
    {
     "name": "stdout",
     "output_type": "stream",
     "text": [
      "            sumGyro       sumAcc       sumMag\n",
      "count   2363.000000  2363.000000  2363.000000\n",
      "unique  2075.000000  2074.000000  1973.000000\n",
      "top        0.440104     1.082063    77.843124\n",
      "freq       3.000000     3.000000     3.000000\n",
      "      sumGyro  sumAcc   sumMag\n",
      "1214  2.60655  1.0063  88.0316\n",
      "       sumGyro   sumAcc   sumMag\n",
      "2332  0.323309  1.02841  61.1016\n",
      "2333  0.471074  1.05938  61.1016\n"
     ]
    }
   ],
   "source": [
    "print (final_seventy_df.describe())\n",
    "print (final_seventy_df[final_seventy_df['sumGyro']==final_seventy_df['sumGyro'].max()])\n",
    "print (final_seventy_df[final_seventy_df['sumMag']==final_seventy_df['sumMag'].min()])"
   ]
  },
  {
   "cell_type": "code",
   "execution_count": 107,
   "metadata": {},
   "outputs": [
    {
     "data": {
      "text/html": [
       "<div>\n",
       "<style scoped>\n",
       "    .dataframe tbody tr th:only-of-type {\n",
       "        vertical-align: middle;\n",
       "    }\n",
       "\n",
       "    .dataframe tbody tr th {\n",
       "        vertical-align: top;\n",
       "    }\n",
       "\n",
       "    .dataframe thead th {\n",
       "        text-align: right;\n",
       "    }\n",
       "</style>\n",
       "<table border=\"1\" class=\"dataframe\">\n",
       "  <thead>\n",
       "    <tr style=\"text-align: right;\">\n",
       "      <th></th>\n",
       "      <th>sumGyro</th>\n",
       "      <th>sumAcc</th>\n",
       "      <th>sumMag</th>\n",
       "    </tr>\n",
       "  </thead>\n",
       "  <tbody>\n",
       "    <tr>\n",
       "      <th>1204</th>\n",
       "      <td>2.21593</td>\n",
       "      <td>1.02872</td>\n",
       "      <td>90.3763</td>\n",
       "    </tr>\n",
       "    <tr>\n",
       "      <th>1205</th>\n",
       "      <td>2.18933</td>\n",
       "      <td>1.01568</td>\n",
       "      <td>89.6158</td>\n",
       "    </tr>\n",
       "    <tr>\n",
       "      <th>1206</th>\n",
       "      <td>2.20607</td>\n",
       "      <td>1.00399</td>\n",
       "      <td>89.45</td>\n",
       "    </tr>\n",
       "    <tr>\n",
       "      <th>1207</th>\n",
       "      <td>2.21958</td>\n",
       "      <td>1.01067</td>\n",
       "      <td>89.45</td>\n",
       "    </tr>\n",
       "    <tr>\n",
       "      <th>1208</th>\n",
       "      <td>2.2072</td>\n",
       "      <td>1.05832</td>\n",
       "      <td>90.2229</td>\n",
       "    </tr>\n",
       "    <tr>\n",
       "      <th>1209</th>\n",
       "      <td>2.19513</td>\n",
       "      <td>1.13449</td>\n",
       "      <td>89.8961</td>\n",
       "    </tr>\n",
       "    <tr>\n",
       "      <th>1210</th>\n",
       "      <td>2.2039</td>\n",
       "      <td>1.17538</td>\n",
       "      <td>88.4197</td>\n",
       "    </tr>\n",
       "    <tr>\n",
       "      <th>1211</th>\n",
       "      <td>2.30299</td>\n",
       "      <td>1.11678</td>\n",
       "      <td>87.5712</td>\n",
       "    </tr>\n",
       "    <tr>\n",
       "      <th>1212</th>\n",
       "      <td>2.40739</td>\n",
       "      <td>1.01503</td>\n",
       "      <td>87.062</td>\n",
       "    </tr>\n",
       "    <tr>\n",
       "      <th>1213</th>\n",
       "      <td>2.53707</td>\n",
       "      <td>0.941679</td>\n",
       "      <td>88.0316</td>\n",
       "    </tr>\n",
       "  </tbody>\n",
       "</table>\n",
       "</div>"
      ],
      "text/plain": [
       "      sumGyro    sumAcc   sumMag\n",
       "1204  2.21593   1.02872  90.3763\n",
       "1205  2.18933   1.01568  89.6158\n",
       "1206  2.20607   1.00399    89.45\n",
       "1207  2.21958   1.01067    89.45\n",
       "1208   2.2072   1.05832  90.2229\n",
       "1209  2.19513   1.13449  89.8961\n",
       "1210   2.2039   1.17538  88.4197\n",
       "1211  2.30299   1.11678  87.5712\n",
       "1212  2.40739   1.01503   87.062\n",
       "1213  2.53707  0.941679  88.0316"
      ]
     },
     "execution_count": 107,
     "metadata": {},
     "output_type": "execute_result"
    }
   ],
   "source": [
    "first_half_70ft = (final_seventy_df.loc[0:1213,:])\n",
    "first_half_70ft.tail(10)\n",
    "# final_seventy_df.shape"
   ]
  },
  {
   "cell_type": "code",
   "execution_count": 108,
   "metadata": {},
   "outputs": [
    {
     "data": {
      "text/html": [
       "<div>\n",
       "<style scoped>\n",
       "    .dataframe tbody tr th:only-of-type {\n",
       "        vertical-align: middle;\n",
       "    }\n",
       "\n",
       "    .dataframe tbody tr th {\n",
       "        vertical-align: top;\n",
       "    }\n",
       "\n",
       "    .dataframe thead th {\n",
       "        text-align: right;\n",
       "    }\n",
       "</style>\n",
       "<table border=\"1\" class=\"dataframe\">\n",
       "  <thead>\n",
       "    <tr style=\"text-align: right;\">\n",
       "      <th></th>\n",
       "      <th>sumGyro</th>\n",
       "      <th>sumAcc</th>\n",
       "      <th>sumMag</th>\n",
       "    </tr>\n",
       "  </thead>\n",
       "  <tbody>\n",
       "    <tr>\n",
       "      <th>2353</th>\n",
       "      <td>0.502259</td>\n",
       "      <td>0.935149</td>\n",
       "      <td>62.1887</td>\n",
       "    </tr>\n",
       "    <tr>\n",
       "      <th>2354</th>\n",
       "      <td>0.313679</td>\n",
       "      <td>1.0199</td>\n",
       "      <td>62.2677</td>\n",
       "    </tr>\n",
       "    <tr>\n",
       "      <th>2355</th>\n",
       "      <td>0.485996</td>\n",
       "      <td>1.0011</td>\n",
       "      <td>62.1319</td>\n",
       "    </tr>\n",
       "    <tr>\n",
       "      <th>2356</th>\n",
       "      <td>0.290101</td>\n",
       "      <td>0.826775</td>\n",
       "      <td>61.9632</td>\n",
       "    </tr>\n",
       "    <tr>\n",
       "      <th>2357</th>\n",
       "      <td>0.269642</td>\n",
       "      <td>0.714951</td>\n",
       "      <td>61.9632</td>\n",
       "    </tr>\n",
       "    <tr>\n",
       "      <th>2358</th>\n",
       "      <td>0.524465</td>\n",
       "      <td>0.765239</td>\n",
       "      <td>61.8807</td>\n",
       "    </tr>\n",
       "    <tr>\n",
       "      <th>2359</th>\n",
       "      <td>0.524751</td>\n",
       "      <td>0.844606</td>\n",
       "      <td>61.9738</td>\n",
       "    </tr>\n",
       "    <tr>\n",
       "      <th>2360</th>\n",
       "      <td>0.409081</td>\n",
       "      <td>0.881956</td>\n",
       "      <td>62.5218</td>\n",
       "    </tr>\n",
       "    <tr>\n",
       "      <th>2361</th>\n",
       "      <td>0.471744</td>\n",
       "      <td>0.899341</td>\n",
       "      <td>62.5888</td>\n",
       "    </tr>\n",
       "    <tr>\n",
       "      <th>2362</th>\n",
       "      <td>0.809392</td>\n",
       "      <td>0.873426</td>\n",
       "      <td>62.8154</td>\n",
       "    </tr>\n",
       "  </tbody>\n",
       "</table>\n",
       "</div>"
      ],
      "text/plain": [
       "       sumGyro    sumAcc   sumMag\n",
       "2353  0.502259  0.935149  62.1887\n",
       "2354  0.313679    1.0199  62.2677\n",
       "2355  0.485996    1.0011  62.1319\n",
       "2356  0.290101  0.826775  61.9632\n",
       "2357  0.269642  0.714951  61.9632\n",
       "2358  0.524465  0.765239  61.8807\n",
       "2359  0.524751  0.844606  61.9738\n",
       "2360  0.409081  0.881956  62.5218\n",
       "2361  0.471744  0.899341  62.5888\n",
       "2362  0.809392  0.873426  62.8154"
      ]
     },
     "execution_count": 108,
     "metadata": {},
     "output_type": "execute_result"
    }
   ],
   "source": [
    "second_half_70ft = (final_seventy_df.loc[2333:2363,:])\n",
    "second_half_70ft.tail(10)"
   ]
  },
  {
   "cell_type": "code",
   "execution_count": 111,
   "metadata": {},
   "outputs": [
    {
     "name": "stdout",
     "output_type": "stream",
     "text": [
      "First 70ft data\n",
      "Sum of all rows of sumGyro: 784.2679852942699\n",
      "Sum of all rows of sumAcc: 1247.4127299201052\n",
      "Sum of all rows of sumMag: 103586.75492696342\n",
      "Second 70ft data\n",
      "Sum of all rows of sumGyro: 13.341924055118131\n",
      "Sum of all rows of sumAcc: 30.148736767174128\n",
      "Sum of all rows of sumMag: 1855.079152579736\n"
     ]
    }
   ],
   "source": [
    "# take position vector of first_half_10ft and second_half_10ft and find the difference\n",
    "print('First 70ft data')\n",
    "print('Sum of all rows of sumGyro: ' + str(first_half_70ft['sumGyro'].sum()))\n",
    "print('Sum of all rows of sumAcc: ' + str(first_half_70ft['sumAcc'].sum()))\n",
    "print('Sum of all rows of sumMag: ' + str(first_half_70ft['sumMag'].sum()))\n",
    "\n",
    "total_70ft_SumGyro = first_half_70ft['sumGyro'].sum()\n",
    "total_70ft_SumAcc = first_half_70ft['sumAcc'].sum()\n",
    "total_70ft_SumMag = first_half_70ft['sumMag'].sum()\n",
    "\n",
    "print('Second 70ft data')\n",
    "print('Sum of all rows of sumGyro: ' + str(second_half_70ft['sumGyro'].sum()))\n",
    "print('Sum of all rows of sumAcc: ' + str(second_half_70ft['sumAcc'].sum()))\n",
    "print('Sum of all rows of sumMag: ' + str(second_half_70ft['sumMag'].sum()))\n",
    "\n",
    "total_70ft_SumGyro2 = second_half_70ft['sumGyro'].sum()\n",
    "total_70ft_SumAcc2 = second_half_70ft['sumAcc'].sum()\n",
    "total_70ft_SumMag2 = second_half_70ft['sumMag'].sum()"
   ]
  },
  {
   "cell_type": "code",
   "execution_count": 112,
   "metadata": {},
   "outputs": [
    {
     "name": "stdout",
     "output_type": "stream",
     "text": [
      "Percent Error of 70ft Gyro: 770.9260612391517\n"
     ]
    }
   ],
   "source": [
    "seventy_feet_error_diff_gyro = (total_70ft_SumGyro - total_70ft_SumGyro2)\n",
    "print('Percent Error of 70ft Gyro: ' + str(seventy_feet_error_diff_gyro))"
   ]
  },
  {
   "cell_type": "code",
   "execution_count": 113,
   "metadata": {},
   "outputs": [
    {
     "name": "stdout",
     "output_type": "stream",
     "text": [
      "Percent Error of 70ft Acc: 1217.263993152931\n"
     ]
    }
   ],
   "source": [
    "seventy_feet_error_diff_acc = (total_70ft_SumAcc - total_70ft_SumAcc2)\n",
    "print('Percent Error of 70ft Acc: ' + str(seventy_feet_error_diff_acc))"
   ]
  },
  {
   "cell_type": "code",
   "execution_count": 114,
   "metadata": {},
   "outputs": [
    {
     "name": "stdout",
     "output_type": "stream",
     "text": [
      "Percent Error of 70ft Mag: 101731.67577438368\n"
     ]
    }
   ],
   "source": [
    "seventy_feet_error_diff_mag = (total_70ft_SumMag - total_70ft_SumMag2)\n",
    "print('Percent Error of 70ft Mag: ' + str(seventy_feet_error_diff_mag))"
   ]
  },
  {
   "cell_type": "code",
   "execution_count": null,
   "metadata": {},
   "outputs": [],
   "source": []
  }
 ],
 "metadata": {
  "kernelspec": {
   "display_name": "Python 3",
   "language": "python",
   "name": "python3"
  },
  "language_info": {
   "codemirror_mode": {
    "name": "ipython",
    "version": 3
   },
   "file_extension": ".py",
   "mimetype": "text/x-python",
   "name": "python",
   "nbconvert_exporter": "python",
   "pygments_lexer": "ipython3",
   "version": "3.7.0"
  }
 },
 "nbformat": 4,
 "nbformat_minor": 2
}
